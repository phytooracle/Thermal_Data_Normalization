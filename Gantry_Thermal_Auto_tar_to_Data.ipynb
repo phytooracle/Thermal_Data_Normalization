{
 "cells": [
  {
   "cell_type": "code",
   "execution_count": 8,
   "metadata": {},
   "outputs": [],
   "source": [
    "import tarfile\n",
    "import pandas as pd\n",
    "import datetime as dt\n",
    "import os\n",
    "import glob"
   ]
  },
  {
   "cell_type": "code",
   "execution_count": 9,
   "metadata": {},
   "outputs": [
    {
     "data": {
      "text/html": [
       "<div>\n",
       "<style scoped>\n",
       "    .dataframe tbody tr th:only-of-type {\n",
       "        vertical-align: middle;\n",
       "    }\n",
       "\n",
       "    .dataframe tbody tr th {\n",
       "        vertical-align: top;\n",
       "    }\n",
       "\n",
       "    .dataframe thead th {\n",
       "        text-align: right;\n",
       "    }\n",
       "</style>\n",
       "<table border=\"1\" class=\"dataframe\">\n",
       "  <thead>\n",
       "    <tr style=\"text-align: right;\">\n",
       "      <th></th>\n",
       "      <th>date</th>\n",
       "      <th>Sun Direction</th>\n",
       "      <th>Temperature</th>\n",
       "      <th>Photosynthetically active radiation</th>\n",
       "    </tr>\n",
       "    <tr>\n",
       "      <th>time</th>\n",
       "      <th></th>\n",
       "      <th></th>\n",
       "      <th></th>\n",
       "      <th></th>\n",
       "    </tr>\n",
       "  </thead>\n",
       "  <tbody>\n",
       "    <tr>\n",
       "      <th>10:00:00</th>\n",
       "      <td>2019-07-05</td>\n",
       "      <td>98.143864</td>\n",
       "      <td>33.802911</td>\n",
       "      <td>1686.240996</td>\n",
       "    </tr>\n",
       "  </tbody>\n",
       "</table>\n",
       "</div>"
      ],
      "text/plain": [
       "                date  Sun Direction  Temperature  \\\n",
       "time                                               \n",
       "10:00:00  2019-07-05      98.143864    33.802911   \n",
       "\n",
       "          Photosynthetically active radiation  \n",
       "time                                           \n",
       "10:00:00                          1686.240996  "
      ]
     },
     "execution_count": 9,
     "metadata": {},
     "output_type": "execute_result"
    }
   ],
   "source": [
    "# Code Takes in the tar file and gives you the time, data, Sun Direction, Temperature, and PAR of that day's scan.\n",
    "# The user needs to input the file path\n",
    "# Right now, the tar file needs to be on the user's computer\n",
    "\n",
    "## Decompress tar file and save data to folder\n",
    "class Thermal:\n",
    "    def __init__ (self, tar_filename):\n",
    "        tar_data = tarfile.open(tar_filename)\n",
    "        tar_data.extractall('tar_to_csv')\n",
    "        tar_data.close()\n",
    "\n",
    "## Retrieve csv data and organize/clean up\n",
    "    def retrieve_data(self):\n",
    "        path_csv = glob.glob(\"/Users/sebastiancalleja/Desktop/tar_to_csv/*.csv\")\n",
    "        csv = str(path_csv)[2:-2]\n",
    "        data = pd.read_csv(csv)\n",
    "        data['Time'] = pd.to_datetime(data['Time'])\n",
    "        data['date'] = data.Time.dt.date\n",
    "        data['time'] = data.Time.dt.time\n",
    "        data_clean = data[['time', 'date', 'Sun Direction', 'Temperature', \n",
    "                                      'Photosynthetically active radiation']]\n",
    "        index_data = data_clean.set_index('time')\n",
    "        return index_data\n",
    "    \n",
    "    def split_time(data, hour, minute):\n",
    "        index_data = Thermal.Retrieve_Data(tar_file)\n",
    "        specific_time = index_data[index_data.index == dt.time (hour, minute)]\n",
    "        return specific_time\n",
    "\n",
    "tar_file = Thermal(\"/Users/sebastiancalleja/Desktop/2019-07-05_clean.tar.gz\")\n",
    "Thermal.split_time(tar_file, 10, 00)"
   ]
  },
  {
   "cell_type": "code",
   "execution_count": null,
   "metadata": {},
   "outputs": [],
   "source": []
  }
 ],
 "metadata": {
  "kernelspec": {
   "display_name": "Python 3",
   "language": "python",
   "name": "python3"
  },
  "language_info": {
   "codemirror_mode": {
    "name": "ipython",
    "version": 3
   },
   "file_extension": ".py",
   "mimetype": "text/x-python",
   "name": "python",
   "nbconvert_exporter": "python",
   "pygments_lexer": "ipython3",
   "version": "3.8.3"
  }
 },
 "nbformat": 4,
 "nbformat_minor": 4
}
