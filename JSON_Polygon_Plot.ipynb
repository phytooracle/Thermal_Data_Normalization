{
 "cells": [
  {
   "cell_type": "code",
   "execution_count": 43,
   "metadata": {},
   "outputs": [],
   "source": [
    "from osgeo import gdal, osr\n",
    "from osgeo import osr\n",
    "import geopandas as gpd\n",
    "from osgeo import ogr\n",
    "from shapely.geometry import Polygon, Point\n",
    "from geopandas.geoseries import *\n",
    "import re\n",
    "import tarfile\n",
    "import pandas as pd\n",
    "import datetime as dt\n",
    "import os\n",
    "import glob\n",
    "import subprocess\n",
    "import os.path\n",
    "from os import path\n",
    "import json\n",
    "from pathlib import Path\n",
    "import matplotlib.pyplot as plt\n",
    "import numpy as np\n",
    "from terrautils.spatial import scanalyzer_to_latlon"
   ]
  },
  {
   "cell_type": "code",
   "execution_count": 44,
   "metadata": {},
   "outputs": [],
   "source": [
    "# Grabs the thermal raw data tar file for the Gantry's metadata for the images taken at the specified date\n",
    "class JSON:\n",
    "    def get_tar(season, date):\n",
    "        command = f'iget -rKTPf -N 0 /iplant/home/shared/terraref/ua-mac/raw_tars/{season}/flirIrCamera/flirIrCamera-{date}.tar'\n",
    "        subprocess.call(command, shell = True)\n",
    "        command = f'tar -xvf flirIrCamera-{date}.tar'\n",
    "        subprocess.call(command, shell = True)\n",
    "\n",
    "# Finds the individual json files and adds them to the filepath (end up with a list of paths for each individual json file)\n",
    "    def pathlist(season, date):\n",
    "        json_data = JSON.get_tar(season, date)\n",
    "        pathlist = Path(f\"./flirIrCamera/{date}/\").glob('**/*.json')\n",
    "        JSON_path_list = []\n",
    "        for path in pathlist:\n",
    "            path_str = str(path)\n",
    "            JSON_path_list.append(path_str)\n",
    "        return JSON_path_list\n",
    "\n",
    "# Uses the pathlists and searches each one\n",
    "# Gathers the time, image name, gantry_x and gantry_y information from the metadata of each individual image and adds to dictionary\n",
    "    def time_dict(season, date):\n",
    "        file_path_list = JSON.pathlist(season, date)\n",
    "        JSON_dict = dict()\n",
    "        for file in file_path_list:\n",
    "            path_metadata = glob.glob(f'{file}')\n",
    "            metadata = str(path_metadata)[2:-2]\n",
    "            with open(metadata) as f:\n",
    "                meta = json.load(f)['lemnatec_measurement_metadata']\n",
    "                time = (meta['gantry_system_variable_metadata']['time'])\n",
    "                gantry_x = float(meta['gantry_system_variable_metadata']['position x [m]'])\n",
    "                gantry_y = float(meta['gantry_system_variable_metadata']['position y [m]'])\n",
    "                gantry_z = float(meta['gantry_system_variable_metadata']['position z [m]'])\n",
    "                filename = os.path.basename(metadata)\n",
    "            if JSON is not JSON_dict:\n",
    "                JSON_dict[time, filename, gantry_x, gantry_y, gantry_z] = \"Date, Time, Gantry_x, Gantry_y, Gantry_z\"\n",
    "            else:\n",
    "                print(\"JSON already in Dictionary\")\n",
    "        return sorted(JSON_dict)\n",
    "\n",
    "# Searches through the dictionary created and creates a dataframe of the information in the dictionary\n",
    "    def time_df(season, date):\n",
    "        JSON_time_d = JSON.time_dict(season, date)\n",
    "        JSON_time_df = pd.DataFrame.from_dict(JSON_time_d)\n",
    "        JSON_time_df.columns = ['Date and Time', 'Image Name', 'Gantry_x', 'Gantry_y', \"Gantry_z\"]\n",
    "        return JSON_time_df\n",
    "\n",
    "# Converts the gantry coordinates into GPS coordinates (using 'terrautils')\n",
    "# Used when we defined an image as a Point\n",
    "    def GPS_coord (season, date):\n",
    "        data = JSON.time_df(season, date)\n",
    "        gantry_x_pos = data['Gantry_x']\n",
    "        gantry_y_pos = data['Gantry_y']        \n",
    "        GPS_latlon = scanalyzer_to_latlon(gantry_x_pos, gantry_y_pos)\n",
    "        GPS_df = pd.DataFrame(GPS_latlon)\n",
    "        GPS_latlon_df = GPS_df.transpose()\n",
    "        GPS_latlon_df.columns = ['GPS_lat', 'GPS_lon']\n",
    "        data['GPS_lat'] = GPS_latlon_df['GPS_lat']\n",
    "        data['GPS_lon'] = GPS_latlon_df['GPS_lon']\n",
    "        return data\n",
    "    \n",
    "# Takes Metadata for the image and creates a bounding box\n",
    "# Used when we defined image as a polygon rather than using the center point\n",
    "    def b_box(season, date):\n",
    "        file_path_list = JSON.pathlist(season, date)\n",
    "        JSON_dict = dict()\n",
    "        for file in file_path_list:\n",
    "            path_metadata = glob.glob(f'{file}')\n",
    "            metadata = str(path_metadata)[2:-2]\n",
    "            with open(metadata) as f:\n",
    "                meta = json.load(f)['lemnatec_measurement_metadata']\n",
    "                time = (meta['gantry_system_variable_metadata']['time'])\n",
    "                gantry_x = float(meta['gantry_system_variable_metadata']['position x [m]'])\n",
    "                gantry_y = float(meta['gantry_system_variable_metadata']['position y [m]'])\n",
    "                gantry_z = float(meta['gantry_system_variable_metadata']['position z [m]'])\n",
    "                fov_x, fov_y = float(meta['sensor_fixed_metadata']['field of view x [m]']), float(meta['sensor_fixed_metadata']['field of view y [m]'])\n",
    "                B = gantry_z\n",
    "                A_x = np.arctan((0.5*float(fov_x))/2)\n",
    "                A_y = np.arctan((0.5*float(fov_y))/2)\n",
    "                L_x = 2*B*np.tan(A_x)\n",
    "                L_y = 2*B*np.tan(A_y)\n",
    "                x_n = gantry_x + (L_x/2)\n",
    "                x_s = gantry_x - (L_x/2)\n",
    "                y_w = gantry_y + (L_y/2)\n",
    "                y_e = gantry_y - (L_y/2)\n",
    "                bbox_nw_latlon = scanalyzer_to_latlon(x_n, y_w)\n",
    "                bbox_se_latlon = scanalyzer_to_latlon(x_s, y_e)\n",
    "\n",
    "                # TERRA-REF\n",
    "                lon_shift = 0.000020308287\n",
    "\n",
    "                # Drone\n",
    "                lat_shift = 0.000018292 #0.000015258894\n",
    "                b_box =  ( bbox_se_latlon[0] - lat_shift,\n",
    "                            bbox_nw_latlon[0] - lat_shift,\n",
    "                            bbox_nw_latlon[1] + lon_shift,\n",
    "                            bbox_se_latlon[1] + lon_shift)\n",
    "                filename = os.path.basename(metadata)\n",
    "            if JSON is not JSON_dict:\n",
    "                JSON_dict[time, filename, gantry_x, gantry_y, gantry_z, b_box] = \"Date, Time, Gantry_x, Gantry_y, Gantry_z, b_box\"\n",
    "            else:\n",
    "                print(\"JSON already in Dictionary\")\n",
    "        return sorted(JSON_dict)\n",
    "    \n",
    "    def bbox_df(season, date):\n",
    "        image_bbox = JSON.b_box(season, date)\n",
    "        bbox_df = pd.DataFrame.from_dict(image_bbox)\n",
    "        bbox_df.columns = ['Date and Time', 'Image Name', 'Gantry_x', 'Gantry_y', \"Gantry_z\", \"b_box\"]\n",
    "        return bbox_df"
   ]
  },
  {
   "cell_type": "code",
   "execution_count": 45,
   "metadata": {},
   "outputs": [],
   "source": [
    "image_bbox = JSON.bbox_df('season_10_yr_2020', '2020-03-03')"
   ]
  },
  {
   "cell_type": "code",
   "execution_count": 46,
   "metadata": {},
   "outputs": [],
   "source": [
    "shp = gpd.read_file('/Users/sebastiancalleja/Desktop/season10_multi_latlon_geno.geojson')"
   ]
  },
  {
   "cell_type": "code",
   "execution_count": 47,
   "metadata": {},
   "outputs": [],
   "source": [
    "# isolated one bbox\n",
    "bbox1 = image_bbox['b_box'].loc[1]"
   ]
  },
  {
   "cell_type": "code",
   "execution_count": 49,
   "metadata": {},
   "outputs": [],
   "source": [
    "# Used shapely to create a polygon out of the bbox points\n",
    "#polygon1 = Polygon([[bbox1[2], bbox1[0]], [bbox1[3], bbox1[1]], [bbox1[3], bbox1[0]], [bbox1[2], bbox1[1]]])\n",
    "polygon1 = Polygon([[bbox1[2], bbox1[1]], [bbox1[3], bbox1[1]], [bbox1[3], bbox1[0]], [bbox1[2], bbox1[0]]])"
   ]
  },
  {
   "cell_type": "code",
   "execution_count": 50,
   "metadata": {},
   "outputs": [],
   "source": [
    "# Create polygons using the two image points\n",
    "# creates df from list returned above and adds it to original df with all the information\n",
    "polygon_list = []\n",
    "class Get_poly:\n",
    "    def to_poly (image_bbox):\n",
    "        for i, row in image_bbox.iterrows():\n",
    "            bbox = image_bbox['b_box'].loc[i]\n",
    "            polygon = Polygon([[bbox[2], bbox[1]], [bbox[3], bbox[1]], [bbox[3], bbox[0]], [bbox[2], bbox[0]]])\n",
    "            polygon_list.append(polygon)\n",
    "            polygon_df = pd.DataFrame(polygon_list)\n",
    "            polygon_df.rename(columns={0: 'bbox_geometry'}, inplace=True)\n",
    "            image_bbox['bbox_geometry'] = polygon_df\n",
    "        return image_bbox"
   ]
  },
  {
   "cell_type": "code",
   "execution_count": 175,
   "metadata": {},
   "outputs": [],
   "source": [
    "Get_poly.to_poly(image_bbox)"
   ]
  },
  {
   "cell_type": "code",
   "execution_count": 68,
   "metadata": {},
   "outputs": [],
   "source": [
    "# Takes bbox polygon and iterates it through plot polygons to see where they intersect\n",
    "def intersection(bbox_polygon):\n",
    "    intersects = bbox_polygon.intersects\n",
    "    plot = None\n",
    "    intersection_list = []\n",
    "    for i, row in shp.iterrows():\n",
    "        plot_polygon = row['geometry']\n",
    "        intersection = intersects(plot_polygon)\n",
    "        if intersection == True:\n",
    "            plot = [row['ID']]\n",
    "            intersection_list.append(plot)\n",
    "    return intersection_list"
   ]
  },
  {
   "cell_type": "code",
   "execution_count": 69,
   "metadata": {},
   "outputs": [],
   "source": [
    "# iterates through all of the bbox polygons and feeds them into the intersection function\n",
    "image_bbox[\"plot\"] = None\n",
    "for i, row in image_bbox.iterrows():\n",
    "    bbox_polygon = row['bbox_geometry']\n",
    "    plot = intersection(bbox_polygon)\n",
    "    image_bbox.at[i,'plot'] = plot"
   ]
  },
  {
   "cell_type": "code",
   "execution_count": 71,
   "metadata": {},
   "outputs": [],
   "source": [
    "# finds which image polygons were not associated with a plot\n",
    "# there were a total of 208\n",
    "no_intersection = image_bbox.loc[(image_bbox['plot'].str.len() == 0),:]"
   ]
  },
  {
   "cell_type": "code",
   "execution_count": 105,
   "metadata": {},
   "outputs": [],
   "source": [
    "# setting parameters to figure out why the first bbox was not associated to a plot\n",
    "bbox0 = image_bbox['b_box'].loc[0]\n",
    "polygon0 = Polygon([[bbox0[2], bbox0[1]], [bbox0[3], bbox0[1]], [bbox0[3], bbox0[0]], [bbox0[2], bbox0[0]]])\n",
    "geometry1 = shp['geometry'].loc[1]"
   ]
  },
  {
   "cell_type": "code",
   "execution_count": 94,
   "metadata": {},
   "outputs": [],
   "source": [
    "# trying to see if polygons touch rather than intersect\n",
    "touches = polygon0.touches\n",
    "plot = None\n",
    "intersection_list = []\n",
    "for i, row in shp.iterrows():\n",
    "    plot_polygon = row['geometry']\n",
    "    intersection = touches(plot_polygon)\n",
    "    if intersection == True:\n",
    "        print(intersection)\n",
    "        plot = [row['ID']]\n",
    "        intersection_list.append(plot)"
   ]
  },
  {
   "cell_type": "code",
   "execution_count": 131,
   "metadata": {},
   "outputs": [],
   "source": [
    "# finds the number of plots each image got associated with\n",
    "plot_total_list = []\n",
    "for i, row in image_bbox.iterrows():\n",
    "    total_plots = len(image_bbox['plot'].loc[i])\n",
    "    plot_total_list.append(total_plots)"
   ]
  },
  {
   "cell_type": "code",
   "execution_count": 176,
   "metadata": {},
   "outputs": [],
   "source": [
    "# adds the number of plots that an image intersected with to the main df \n",
    "total_plot_df = pd.DataFrame(plot_total_list)\n",
    "total_plot_df.rename(columns={0: 'total_plots'}, inplace=True)\n",
    "image_bbox['total_plots'] = total_plot_df\n",
    "image_bbox['total_plots'].value_counts()"
   ]
  },
  {
   "cell_type": "code",
   "execution_count": 162,
   "metadata": {},
   "outputs": [],
   "source": [
    "# finds which image intersected with 3 plots\n",
    "intersect_three = []\n",
    "for i, row in image_bbox.iterrows():\n",
    "    plot = row['plot']\n",
    "    total_plots = row['total_plots']\n",
    "    if total_plots == 3:\n",
    "        intersect_three.append(plot)"
   ]
  },
  {
   "cell_type": "code",
   "execution_count": 163,
   "metadata": {},
   "outputs": [],
   "source": [
    "# creates a df of the 3 plots that were intersected\n",
    "intersect3_df = pd.DataFrame(intersect_three)\n",
    "intersect3_df.rename(columns={0: 'plots_intersected thrice'}, inplace=True)"
   ]
  },
  {
   "cell_type": "code",
   "execution_count": null,
   "metadata": {},
   "outputs": [],
   "source": []
  }
 ],
 "metadata": {
  "kernelspec": {
   "display_name": "Python 3",
   "language": "python",
   "name": "python3"
  },
  "language_info": {
   "codemirror_mode": {
    "name": "ipython",
    "version": 3
   },
   "file_extension": ".py",
   "mimetype": "text/x-python",
   "name": "python",
   "nbconvert_exporter": "python",
   "pygments_lexer": "ipython3",
   "version": "3.8.3"
  }
 },
 "nbformat": 4,
 "nbformat_minor": 4
}
