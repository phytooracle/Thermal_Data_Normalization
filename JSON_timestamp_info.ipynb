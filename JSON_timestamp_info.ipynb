{
 "cells": [
  {
   "cell_type": "code",
   "execution_count": 15,
   "metadata": {},
   "outputs": [],
   "source": [
    "import tarfile\n",
    "import pandas as pd\n",
    "import datetime as dt\n",
    "import os\n",
    "import glob\n",
    "import subprocess\n",
    "import os.path\n",
    "from os import path\n",
    "import json\n",
    "from pathlib import Path"
   ]
  },
  {
   "cell_type": "code",
   "execution_count": 7,
   "metadata": {},
   "outputs": [],
   "source": [
    "tar_data = tarfile.open(f'/Users/sebastiancalleja/Desktop/Flir_Metadata/flirIrCamera-2020-03-03.tar')\n",
    "tar_data.extractall('Flir_2020-03-03_Metadata_Tar')\n",
    "tar_data.close()"
   ]
  },
  {
   "cell_type": "code",
   "execution_count": 16,
   "metadata": {},
   "outputs": [],
   "source": [
    "pathlist = Path(\"/Users/sebastiancalleja/Desktop/flirIrCamera/2020-03-03/\").glob('**/*.json')\n",
    "JSON_path_list = []\n",
    "for path in pathlist:\n",
    "    path_str = str(path)\n",
    "    JSON_path_list.append(path_str)"
   ]
  },
  {
   "cell_type": "code",
   "execution_count": 82,
   "metadata": {},
   "outputs": [],
   "source": [
    "class SEtime:\n",
    "    def JSON_time_dict(JSON_path_list):\n",
    "        JSON_dict = dict()\n",
    "        for JSON in JSON_path_list:\n",
    "            path_metadata = glob.glob(f'{JSON}')\n",
    "            metadata = str(path_metadata)[2:-2]\n",
    "            with open(metadata) as f:\n",
    "                meta = json.load(f)['lemnatec_measurement_metadata']\n",
    "                time = (meta['gantry_system_variable_metadata']['time'])\n",
    "                filename = os.path.basename(metadata)\n",
    "            if JSON is not JSON_dict:\n",
    "                JSON_dict[time, filename] = \"Date, Time, and Image Name\"\n",
    "            else:\n",
    "                print(\"JSON already in Dictionary\")\n",
    "        return sorted(JSON_dict)\n",
    "    def start_end_time (JSON_path_list):\n",
    "        sorted_JSON_dict = SEtime.JSON_time_dict(JSON_path_list)\n",
    "        JSON_time_df = pd.DataFrame.from_dict(sorted_JSON_dict)\n",
    "        JSON_time_df.columns = ['Date and Time', 'Image Name']\n",
    "        start_end = JSON_time_df.iloc[[0, -1]]['Date and Time']\n",
    "        start_end_df = pd.DataFrame(start_end)\n",
    "        start_info = start_end_df.loc[0]['Date and Time']\n",
    "        end = start_end_df.tail(1)\n",
    "        end_info = end.iloc[0]['Date and Time']\n",
    "        time_s = start_info[11:]\n",
    "        time_e = end_info[11:]\n",
    "        return time_s, time_e"
   ]
  },
  {
   "cell_type": "code",
   "execution_count": 83,
   "metadata": {},
   "outputs": [
    {
     "data": {
      "text/plain": [
       "('08:45:33', '13:27:53')"
      ]
     },
     "execution_count": 83,
     "metadata": {},
     "output_type": "execute_result"
    }
   ],
   "source": [
    "SEtime.start_end_time(JSON_path_list)"
   ]
  },
  {
   "cell_type": "code",
   "execution_count": null,
   "metadata": {},
   "outputs": [],
   "source": []
  }
 ],
 "metadata": {
  "kernelspec": {
   "display_name": "Python 3",
   "language": "python",
   "name": "python3"
  },
  "language_info": {
   "codemirror_mode": {
    "name": "ipython",
    "version": 3
   },
   "file_extension": ".py",
   "mimetype": "text/x-python",
   "name": "python",
   "nbconvert_exporter": "python",
   "pygments_lexer": "ipython3",
   "version": "3.8.3"
  }
 },
 "nbformat": 4,
 "nbformat_minor": 4
}
