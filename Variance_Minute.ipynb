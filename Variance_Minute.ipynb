{
 "cells": [
  {
   "cell_type": "code",
   "execution_count": 1,
   "metadata": {},
   "outputs": [],
   "source": [
    "import tarfile\n",
    "import pandas as pd\n",
    "import datetime as dt\n",
    "import os\n",
    "import glob\n",
    "import subprocess\n",
    "import matplotlib.pyplot as plt\n",
    "import matplotlib.dates as mdates\n",
    "from pathlib import Path\n",
    "import json"
   ]
  },
  {
   "cell_type": "code",
   "execution_count": 2,
   "metadata": {},
   "outputs": [],
   "source": [
    "class Thermal:\n",
    "    def get_tar(season, date, hour, minute):\n",
    "        command = f'iget -rKTPf -N 0 /iplant/home/shared/terraref/ua-mac/level_1/{season}/EnvironmentLogger/{date}_clean.tar.gz'\n",
    "        subprocess.call(command, shell = True)\n",
    "        command = f'tar -xvf {date}_clean.tar.gz'\n",
    "        subprocess.call(command, shell = True)\n",
    "\n",
    "## Retrieve csv data and organize/clean up\n",
    "    def retrieve_data(season, date, hour, minute):\n",
    "        tar_data = Thermal.get_tar(season, date, hour, minute)\n",
    "        data = pd.read_csv(f'./{date}_clean.csv')\n",
    "        data['Time'] = pd.to_datetime(data['Time'])\n",
    "        data['date'] = data.Time.dt.date\n",
    "        data['time'] = data.Time.dt.time\n",
    "        data_clean = data[['Time', 'time', 'date', 'Sun Direction', 'Temperature', \n",
    "                                      'Photosynthetically active radiation']]\n",
    "        index_data = data_clean.set_index('time')\n",
    "        return index_data\n",
    "\n",
    "## Select Time Specified\n",
    "    def split_time(season, date, hour, minute):\n",
    "        index_data = Thermal.retrieve_data(season, date, hour, minute)\n",
    "        specific_time = index_data[index_data.index == dt.time (hour, minute)]\n",
    "        return specific_time"
   ]
  },
  {
   "cell_type": "code",
   "execution_count": 3,
   "metadata": {},
   "outputs": [],
   "source": [
    "class JSON:\n",
    "    def get_tar(season, date):\n",
    "        command = f'iget -rKTPf -N 0 /iplant/home/shared/terraref/ua-mac/raw_tars/{season}/flirIrCamera/flirIrCamera-{date}.tar'\n",
    "        subprocess.call(command, shell = True)\n",
    "        command = f'tar -xvf flirIrCamera-{date}.tar'\n",
    "        subprocess.call(command, shell = True)\n",
    "    \n",
    "    def pathlist(season, date):\n",
    "        json_data = JSON.get_tar(season, date)\n",
    "        pathlist = Path(f\"./flirIrCamera/{date}/\").glob('**/*.json')\n",
    "        JSON_path_list = []\n",
    "        for path in pathlist:\n",
    "            path_str = str(path)\n",
    "            JSON_path_list.append(path_str)\n",
    "        return JSON_path_list\n",
    "    \n",
    "    def time_dict(season, date):\n",
    "        file_path_list = JSON.pathlist(season, date)\n",
    "        JSON_dict = dict()\n",
    "        for file in file_path_list:\n",
    "            path_metadata = glob.glob(f'{file}')\n",
    "            metadata = str(path_metadata)[2:-2]\n",
    "            with open(metadata) as f:\n",
    "                meta = json.load(f)['lemnatec_measurement_metadata']\n",
    "                time = (meta['gantry_system_variable_metadata']['time'])\n",
    "                filename = os.path.basename(metadata)\n",
    "            if JSON is not JSON_dict:\n",
    "                JSON_dict[time, filename] = \"Date, Time, and Image Name\"\n",
    "            else:\n",
    "                print(\"JSON already in Dictionary\")\n",
    "        return sorted(JSON_dict)\n",
    "    \n",
    "    def time_df(season, date):\n",
    "        JSON_time_d = JSON.time_dict(season, date)\n",
    "        JSON_time_df = pd.DataFrame.from_dict(JSON_time_d)\n",
    "        JSON_time_df.columns = ['Date and Time', 'Image Name']\n",
    "        return JSON_time_df"
   ]
  },
  {
   "cell_type": "code",
   "execution_count": 41,
   "metadata": {},
   "outputs": [],
   "source": [
    "EL_2020_03_03 = Thermal.retrieve_data('season_10_yr_2020', '2020-03-03', 10, 00)"
   ]
  },
  {
   "cell_type": "code",
   "execution_count": 42,
   "metadata": {},
   "outputs": [],
   "source": [
    "EL_2020_03_03.reset_index(level=0, inplace=True)"
   ]
  },
  {
   "cell_type": "code",
   "execution_count": 43,
   "metadata": {},
   "outputs": [],
   "source": [
    "JSON_time = JSON.time_df('season_10_yr_2020', '2020-03-03')"
   ]
  },
  {
   "cell_type": "code",
   "execution_count": 44,
   "metadata": {},
   "outputs": [],
   "source": [
    "JSON_time['Date_Time']= pd.to_datetime(JSON_time['Date and Time'])"
   ]
  },
  {
   "cell_type": "code",
   "execution_count": 45,
   "metadata": {},
   "outputs": [],
   "source": [
    "JSON_time['hour'] = JSON_time.Date_Time.dt.hour\n",
    "JSON_time['minute'] = JSON_time.Date_Time.dt.minute\n",
    "JSON_time['date'] = JSON_time.Date_Time.dt.date"
   ]
  },
  {
   "cell_type": "code",
   "execution_count": 46,
   "metadata": {},
   "outputs": [],
   "source": [
    "JSON_time['time'] = pd.to_datetime(JSON_time['hour']*100 + JSON_time['minute'], format='%H%M').dt.time"
   ]
  },
  {
   "cell_type": "code",
   "execution_count": 47,
   "metadata": {},
   "outputs": [],
   "source": [
    "EL_2020_03_03['minute'] = EL_2020_03_03.Time.dt.minute\n",
    "Variance_minute = EL_2020_03_03.set_index('time').diff()\n",
    "Variance_minute['Abs Temperature'] = Variance_minute['Temperature'].abs()"
   ]
  },
  {
   "cell_type": "code",
   "execution_count": 48,
   "metadata": {},
   "outputs": [],
   "source": [
    "Variance_minute.reset_index(level=0, inplace=True)"
   ]
  },
  {
   "cell_type": "code",
   "execution_count": 49,
   "metadata": {},
   "outputs": [],
   "source": [
    "Image_timestamp = JSON_time[['Date_Time']]"
   ]
  },
  {
   "cell_type": "code",
   "execution_count": 50,
   "metadata": {},
   "outputs": [],
   "source": [
    "day_temp = Variance_minute['Abs Temperature']\n",
    "day_time = EL_2020_03_03['Time']\n",
    "first_time = Image_timestamp.iloc[0]\n",
    "start = first_time['Date_Time']\n",
    "last_time = Image_timestamp.iloc[-1]\n",
    "end = last_time['Date_Time']"
   ]
  },
  {
   "cell_type": "code",
   "execution_count": 54,
   "metadata": {},
   "outputs": [
    {
     "data": {
      "image/png": "[encoded data removed]",
      "text/plain": [
       "<Figure size 432x288 with 1 Axes>"
      ]
     },
     "metadata": {
      "needs_background": "light"
     },
     "output_type": "display_data"
    }
   ],
   "source": [
    "fig = plt.figure()\n",
    "ax = fig.add_subplot(1,1,1)  \n",
    "plt.plot(day_time, day_temp)\n",
    "\n",
    "ax.xaxis.set_major_locator(mdates.HourLocator(interval=1))\n",
    "ax.xaxis.set_major_formatter(mdates.DateFormatter('%H:%M'))\n",
    "plt.xticks(rotation=90)\n",
    "plt.xlabel(\"Time (hours)\")\n",
    "plt.ylabel(\"|∆ Temperature| per minute(°C)\")\n",
    "plt.title(\"2020-03-03\")\n",
    "plt.ylim(0,0.8)\n",
    "xposition = [pd.to_datetime(f'{start}'), pd.to_datetime(f'{end}')]\n",
    "for xc in xposition:\n",
    "    ax.axvline(x=xc, color='r', linestyle='--', lw=1)\n",
    "plt.tight_layout()\n",
    "#plt.savefig(\"EL_2020-03-03_Minute.jpg\")"
   ]
  },
  {
   "cell_type": "code",
   "execution_count": null,
   "metadata": {},
   "outputs": [],
   "source": []
  }
 ],
 "metadata": {
  "kernelspec": {
   "display_name": "Python 3",
   "language": "python",
   "name": "python3"
  },
  "language_info": {
   "codemirror_mode": {
    "name": "ipython",
    "version": 3
   },
   "file_extension": ".py",
   "mimetype": "text/x-python",
   "name": "python",
   "nbconvert_exporter": "python",
   "pygments_lexer": "ipython3",
   "version": "3.8.3"
  }
 },
 "nbformat": 4,
 "nbformat_minor": 4
}
