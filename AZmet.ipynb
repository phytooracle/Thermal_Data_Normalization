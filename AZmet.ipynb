{
 "cells": [
  {
   "cell_type": "code",
   "execution_count": 1,
   "metadata": {},
   "outputs": [],
   "source": [
    "import pandas as pd\n",
    "import numpy as np\n",
    "import matplotlib.pyplot as plt"
   ]
  },
  {
   "cell_type": "code",
   "execution_count": 2,
   "metadata": {},
   "outputs": [],
   "source": [
    "## Searches an already downloaded file of the year's AZmet data\n",
    "## Has the capability of retrieving weather data for the specific date and hour\n",
    "\n",
    "## Labels the columns with their appropriate header\n",
    "class AZmet:\n",
    "    def __init__ (self, filename):\n",
    "        file = pd.read_csv(filename, names = [\"Year\", \"Day\", \"Hour\", \n",
    "                                            \"Air Temperature\", \"Relative Humidity\", \n",
    "                                            \"VPD\", \"Solar Radiation\", \"Precipitation\", \n",
    "                                            \"4 inch Soil T\", \"12 inch Soil T\", \n",
    "                                            \"Avg Wind Speed\", \"Wind Vector Magnitude\", \n",
    "                                            \"Wind Vector Direction\", \"Wind Direction STDEV\", \n",
    "                                            \"Max Wind Speed\", \"Reference Evapotranspiration\", \n",
    "                                            \"Actual Vapor Pressure\", \"Dewpoint\"])\n",
    "        file_df = pd.DataFrame(file)\n",
    "        file_df['combined'] = file_df[\"Year\"]*1000 + file_df[\"Day\"]\n",
    "        file_df[\"date\"] = pd.to_datetime(file_df[\"combined\"], format = \"%Y%j\")\n",
    "        data = file_df.set_index('date')\n",
    "        del data['combined']\n",
    "        self.__data__ = data\n",
    "\n",
    "## Selects the data for the specific Date\n",
    "    def specific_time(self, date, hour):\n",
    "        data = self.__data__\n",
    "        specific_time = data[data.index == date]\n",
    "        return specific_time\n",
    "\n",
    "## Selects the data for the specific hour\n",
    "    def specific_hour(self, date, hour):\n",
    "        date_data = AZmet.specific_time(self, date, hour)\n",
    "        hour = date_data[date_data[\"Hour\"] == hour]\n",
    "        return hour\n",
    "\n",
    "## Insert AZmet file for that year here\n",
    "filename = AZmet('/Users/sebastiancalleja/Desktop/AZmet Data/2020_azmet_data.txt')"
   ]
  },
  {
   "cell_type": "code",
   "execution_count": 3,
   "metadata": {},
   "outputs": [],
   "source": [
    "AZmet_2020_03_03 = AZmet.specific_time(filename, '2020-03-03', 13)"
   ]
  },
  {
   "cell_type": "code",
   "execution_count": null,
   "metadata": {},
   "outputs": [],
   "source": []
  }
 ],
 "metadata": {
  "kernelspec": {
   "display_name": "Python 3",
   "language": "python",
   "name": "python3"
  },
  "language_info": {
   "codemirror_mode": {
    "name": "ipython",
    "version": 3
   },
   "file_extension": ".py",
   "mimetype": "text/x-python",
   "name": "python",
   "nbconvert_exporter": "python",
   "pygments_lexer": "ipython3",
   "version": "3.8.3"
  }
 },
 "nbformat": 4,
 "nbformat_minor": 4
}
