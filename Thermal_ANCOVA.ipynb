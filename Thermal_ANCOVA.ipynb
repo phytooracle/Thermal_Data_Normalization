{
 "cells": [
  {
   "cell_type": "code",
   "execution_count": 21,
   "metadata": {},
   "outputs": [],
   "source": [
    "import pandas as pd\n",
    "import matplotlib.pyplot as plt\n",
    "import matplotlib.dates as mdates\n",
    "import matplotlib.ticker as ticker\n",
    "import seaborn as sns\n",
    "import datetime as dt\n",
    "import statsmodels.api as sm\n",
    "import statsmodels.formula.api as smf\n",
    "from statsmodels.formula.api import ols\n",
    "import numpy as np\n",
    "from sklearn.linear_model import LinearRegression\n",
    "import pingouin as pg"
   ]
  },
  {
   "cell_type": "code",
   "execution_count": 22,
   "metadata": {},
   "outputs": [],
   "source": [
    "env = pd.read_csv('2020-03-03_env.csv')\n",
    "pct = pd.read_csv('2020-03-03_individual_temps_env_logger.csv')\n",
    "plant_detection = pd.read_csv('plant_detections.csv')"
   ]
  },
  {
   "cell_type": "code",
   "execution_count": 23,
   "metadata": {},
   "outputs": [],
   "source": [
    "env['time'] = pd.to_datetime(env['time'])"
   ]
  },
  {
   "cell_type": "code",
   "execution_count": 24,
   "metadata": {},
   "outputs": [],
   "source": [
    "del env['Unnamed: 0']"
   ]
  },
  {
   "cell_type": "code",
   "execution_count": 25,
   "metadata": {},
   "outputs": [],
   "source": [
    "## Gets values from the top of the hour from env file\n",
    "env['minute'] = env.time.dt.minute\n",
    "hour_only = env.loc[env['minute'] == 0]"
   ]
  },
  {
   "cell_type": "code",
   "execution_count": 6,
   "metadata": {},
   "outputs": [],
   "source": [
    "## Finding out OLS (Ordinary Least Squares) Regression Results to get r-squared, m and b values\n",
    "pct_model = ols('median_c ~ atm_temp', data = plant_detection).fit()"
   ]
  },
  {
   "cell_type": "code",
   "execution_count": 7,
   "metadata": {},
   "outputs": [
    {
     "name": "stdout",
     "output_type": "stream",
     "text": [
      "                            OLS Regression Results                            \n",
      "==============================================================================\n",
      "Dep. Variable:               median_c   R-squared:                       0.824\n",
      "Model:                            OLS   Adj. R-squared:                  0.824\n",
      "Method:                 Least Squares   F-statistic:                 8.534e+04\n",
      "Date:                Thu, 11 Mar 2021   Prob (F-statistic):               0.00\n",
      "Time:                        17:11:46   Log-Likelihood:                -31216.\n",
      "No. Observations:               18269   AIC:                         6.244e+04\n",
      "Df Residuals:                   18267   BIC:                         6.245e+04\n",
      "Df Model:                           1                                         \n",
      "Covariance Type:            nonrobust                                         \n",
      "==============================================================================\n",
      "                 coef    std err          t      P>|t|      [0.025      0.975]\n",
      "------------------------------------------------------------------------------\n",
      "Intercept      2.9529      0.062     47.491      0.000       2.831       3.075\n",
      "atm_temp       1.1050      0.004    292.135      0.000       1.098       1.112\n",
      "==============================================================================\n",
      "Omnibus:                      211.089   Durbin-Watson:                   0.746\n",
      "Prob(Omnibus):                  0.000   Jarque-Bera (JB):              220.214\n",
      "Skew:                           0.255   Prob(JB):                     1.52e-48\n",
      "Kurtosis:                       3.174   Cond. No.                         104.\n",
      "==============================================================================\n",
      "\n",
      "Warnings:\n",
      "[1] Standard Errors assume that the covariance matrix of the errors is correctly specified.\n"
     ]
    }
   ],
   "source": [
    "print(pct_model.summary())"
   ]
  },
  {
   "cell_type": "code",
   "execution_count": 14,
   "metadata": {},
   "outputs": [
    {
     "data": {
      "text/plain": [
       "Text(0.5, 1.0, 'PCT vs Atm Temp')"
      ]
     },
     "execution_count": 14,
     "metadata": {},
     "output_type": "execute_result"
    },
    {
     "data": {
      "image/png": "[encoded data removed]",
      "text/plain": [
       "<Figure size 432x288 with 1 Axes>"
      ]
     },
     "metadata": {
      "needs_background": "light"
     },
     "output_type": "display_data"
    }
   ],
   "source": [
    "## Plotting figure with regression line using results found in OLS regression results\n",
    "x = plant_detection['atm_temp']\n",
    "y = plant_detection['median_c']\n",
    "#m, b = np.polyfit(x, y, 1)\n",
    "m = 1.1050\n",
    "b = 2.9529\n",
    "plt.plot(x, m*x + b)\n",
    "sns.scatterplot(x, y)\n",
    "plt.plot(x, m*x + b)\n",
    "r2 = 0.824\n",
    "plt.text(11.7, 30.5, '$R^{2}$ = %0.3f' % r2)\n",
    "plt.xlabel('Atmpspheric Temperature (°C)')\n",
    "plt.ylabel('Median Plant Canopy Temperature (°C)')\n",
    "plt.title('PCT vs Atm Temp')\n",
    "#plt.savefig('PCT vs Atm T Regression.png', dpi = 300)"
   ]
  },
  {
   "cell_type": "code",
   "execution_count": 81,
   "metadata": {},
   "outputs": [
    {
     "data": {
      "image/png": "[encoded data removed]",
      "text/plain": [
       "<Figure size 360x288 with 1 Axes>"
      ]
     },
     "metadata": {
      "needs_background": "light"
     },
     "output_type": "display_data"
    }
   ],
   "source": [
    "## Plotting qqplot to see if data is normal\n",
    "x = plant_detection['atm_temp']\n",
    "y = plant_detection['median_c']\n",
    "ax = pg.qqplot(y, dist='norm')\n",
    "plt.savefig('pg qqplot.png', dpi = 300)"
   ]
  },
  {
   "cell_type": "code",
   "execution_count": 88,
   "metadata": {},
   "outputs": [
    {
     "data": {
      "image/png": "[encoded data removed]",
      "text/plain": [
       "<Figure size 432x288 with 1 Axes>"
      ]
     },
     "metadata": {
      "needs_background": "light"
     },
     "output_type": "display_data"
    }
   ],
   "source": [
    "## histogram of data to see if it is normally distributed\n",
    "x = plant_detection['atm_temp']\n",
    "y = plant_detection['median_c']\n",
    "plt.hist(y, density=True, bins = 40);"
   ]
  },
  {
   "cell_type": "code",
   "execution_count": 89,
   "metadata": {},
   "outputs": [
    {
     "data": {
      "text/html": [
       "<div>\n",
       "<style scoped>\n",
       "    .dataframe tbody tr th:only-of-type {\n",
       "        vertical-align: middle;\n",
       "    }\n",
       "\n",
       "    .dataframe tbody tr th {\n",
       "        vertical-align: top;\n",
       "    }\n",
       "\n",
       "    .dataframe thead th {\n",
       "        text-align: right;\n",
       "    }\n",
       "</style>\n",
       "<table border=\"1\" class=\"dataframe\">\n",
       "  <thead>\n",
       "    <tr style=\"text-align: right;\">\n",
       "      <th></th>\n",
       "      <th>Source</th>\n",
       "      <th>SS</th>\n",
       "      <th>DF</th>\n",
       "      <th>F</th>\n",
       "      <th>p-unc</th>\n",
       "      <th>np2</th>\n",
       "    </tr>\n",
       "  </thead>\n",
       "  <tbody>\n",
       "    <tr>\n",
       "      <th>0</th>\n",
       "      <td>treatment</td>\n",
       "      <td>2476.926785</td>\n",
       "      <td>3</td>\n",
       "      <td>500.396209</td>\n",
       "      <td>1.582923e-312</td>\n",
       "      <td>0.075951</td>\n",
       "    </tr>\n",
       "    <tr>\n",
       "      <th>1</th>\n",
       "      <td>atm_temp</td>\n",
       "      <td>24988.844325</td>\n",
       "      <td>1</td>\n",
       "      <td>15144.964760</td>\n",
       "      <td>0.000000e+00</td>\n",
       "      <td>0.453320</td>\n",
       "    </tr>\n",
       "    <tr>\n",
       "      <th>2</th>\n",
       "      <td>Residual</td>\n",
       "      <td>30135.180899</td>\n",
       "      <td>18264</td>\n",
       "      <td>NaN</td>\n",
       "      <td>NaN</td>\n",
       "      <td>NaN</td>\n",
       "    </tr>\n",
       "  </tbody>\n",
       "</table>\n",
       "</div>"
      ],
      "text/plain": [
       "      Source            SS     DF             F          p-unc       np2\n",
       "0  treatment   2476.926785      3    500.396209  1.582923e-312  0.075951\n",
       "1   atm_temp  24988.844325      1  15144.964760   0.000000e+00  0.453320\n",
       "2   Residual  30135.180899  18264           NaN            NaN       NaN"
      ]
     },
     "execution_count": 89,
     "metadata": {},
     "output_type": "execute_result"
    }
   ],
   "source": [
    "pg.ancova(data=plant_detection, dv='median_c', covar=['atm_temp'], between='treatment')"
   ]
  },
  {
   "cell_type": "code",
   "execution_count": 101,
   "metadata": {},
   "outputs": [
    {
     "data": {
      "text/html": [
       "<div>\n",
       "<style scoped>\n",
       "    .dataframe tbody tr th:only-of-type {\n",
       "        vertical-align: middle;\n",
       "    }\n",
       "\n",
       "    .dataframe tbody tr th {\n",
       "        vertical-align: top;\n",
       "    }\n",
       "\n",
       "    .dataframe thead th {\n",
       "        text-align: right;\n",
       "    }\n",
       "</style>\n",
       "<table border=\"1\" class=\"dataframe\">\n",
       "  <thead>\n",
       "    <tr style=\"text-align: right;\">\n",
       "      <th></th>\n",
       "      <th>Source</th>\n",
       "      <th>SS</th>\n",
       "      <th>DF</th>\n",
       "      <th>F</th>\n",
       "      <th>p-unc</th>\n",
       "      <th>np2</th>\n",
       "    </tr>\n",
       "  </thead>\n",
       "  <tbody>\n",
       "    <tr>\n",
       "      <th>0</th>\n",
       "      <td>treatment</td>\n",
       "      <td>2312.531343</td>\n",
       "      <td>3</td>\n",
       "      <td>478.974469</td>\n",
       "      <td>1.280591e-299</td>\n",
       "      <td>0.072941</td>\n",
       "    </tr>\n",
       "    <tr>\n",
       "      <th>1</th>\n",
       "      <td>atm_temp</td>\n",
       "      <td>25326.143282</td>\n",
       "      <td>1</td>\n",
       "      <td>15736.750211</td>\n",
       "      <td>0.000000e+00</td>\n",
       "      <td>0.462849</td>\n",
       "    </tr>\n",
       "    <tr>\n",
       "      <th>2</th>\n",
       "      <td>azmet_wind_velocity</td>\n",
       "      <td>743.384718</td>\n",
       "      <td>1</td>\n",
       "      <td>461.912400</td>\n",
       "      <td>3.300609e-101</td>\n",
       "      <td>0.024668</td>\n",
       "    </tr>\n",
       "    <tr>\n",
       "      <th>3</th>\n",
       "      <td>Residual</td>\n",
       "      <td>29391.796181</td>\n",
       "      <td>18263</td>\n",
       "      <td>NaN</td>\n",
       "      <td>NaN</td>\n",
       "      <td>NaN</td>\n",
       "    </tr>\n",
       "  </tbody>\n",
       "</table>\n",
       "</div>"
      ],
      "text/plain": [
       "                Source            SS     DF             F          p-unc  \\\n",
       "0            treatment   2312.531343      3    478.974469  1.280591e-299   \n",
       "1             atm_temp  25326.143282      1  15736.750211   0.000000e+00   \n",
       "2  azmet_wind_velocity    743.384718      1    461.912400  3.300609e-101   \n",
       "3             Residual  29391.796181  18263           NaN            NaN   \n",
       "\n",
       "        np2  \n",
       "0  0.072941  \n",
       "1  0.462849  \n",
       "2  0.024668  \n",
       "3       NaN  "
      ]
     },
     "execution_count": 101,
     "metadata": {},
     "output_type": "execute_result"
    }
   ],
   "source": [
    "pg.ancova(data=plant_detection, dv='median_c', covar=['atm_temp', 'azmet_wind_velocity'], between='treatment')"
   ]
  },
  {
   "cell_type": "code",
   "execution_count": 151,
   "metadata": {},
   "outputs": [
    {
     "data": {
      "text/html": [
       "<div>\n",
       "<style scoped>\n",
       "    .dataframe tbody tr th:only-of-type {\n",
       "        vertical-align: middle;\n",
       "    }\n",
       "\n",
       "    .dataframe tbody tr th {\n",
       "        vertical-align: top;\n",
       "    }\n",
       "\n",
       "    .dataframe thead th {\n",
       "        text-align: right;\n",
       "    }\n",
       "</style>\n",
       "<table border=\"1\" class=\"dataframe\">\n",
       "  <thead>\n",
       "    <tr style=\"text-align: right;\">\n",
       "      <th></th>\n",
       "      <th>Source</th>\n",
       "      <th>SS</th>\n",
       "      <th>DF</th>\n",
       "      <th>F</th>\n",
       "      <th>p-unc</th>\n",
       "      <th>np2</th>\n",
       "    </tr>\n",
       "  </thead>\n",
       "  <tbody>\n",
       "    <tr>\n",
       "      <th>0</th>\n",
       "      <td>treatment</td>\n",
       "      <td>2245.484080</td>\n",
       "      <td>3</td>\n",
       "      <td>471.000825</td>\n",
       "      <td>8.375919e-295</td>\n",
       "      <td>0.071817</td>\n",
       "    </tr>\n",
       "    <tr>\n",
       "      <th>1</th>\n",
       "      <td>atm_temp</td>\n",
       "      <td>39.863195</td>\n",
       "      <td>1</td>\n",
       "      <td>25.084477</td>\n",
       "      <td>5.538452e-07</td>\n",
       "      <td>0.001372</td>\n",
       "    </tr>\n",
       "    <tr>\n",
       "      <th>2</th>\n",
       "      <td>azmet_wind_velocity</td>\n",
       "      <td>617.288561</td>\n",
       "      <td>1</td>\n",
       "      <td>388.437518</td>\n",
       "      <td>1.403234e-85</td>\n",
       "      <td>0.020827</td>\n",
       "    </tr>\n",
       "    <tr>\n",
       "      <th>3</th>\n",
       "      <td>azmet_relative_humidity</td>\n",
       "      <td>370.594143</td>\n",
       "      <td>1</td>\n",
       "      <td>233.201583</td>\n",
       "      <td>2.514776e-52</td>\n",
       "      <td>0.012609</td>\n",
       "    </tr>\n",
       "    <tr>\n",
       "      <th>4</th>\n",
       "      <td>Residual</td>\n",
       "      <td>29021.202037</td>\n",
       "      <td>18262</td>\n",
       "      <td>NaN</td>\n",
       "      <td>NaN</td>\n",
       "      <td>NaN</td>\n",
       "    </tr>\n",
       "  </tbody>\n",
       "</table>\n",
       "</div>"
      ],
      "text/plain": [
       "                    Source            SS     DF           F          p-unc  \\\n",
       "0                treatment   2245.484080      3  471.000825  8.375919e-295   \n",
       "1                 atm_temp     39.863195      1   25.084477   5.538452e-07   \n",
       "2      azmet_wind_velocity    617.288561      1  388.437518   1.403234e-85   \n",
       "3  azmet_relative_humidity    370.594143      1  233.201583   2.514776e-52   \n",
       "4                 Residual  29021.202037  18262         NaN            NaN   \n",
       "\n",
       "        np2  \n",
       "0  0.071817  \n",
       "1  0.001372  \n",
       "2  0.020827  \n",
       "3  0.012609  \n",
       "4       NaN  "
      ]
     },
     "execution_count": 151,
     "metadata": {},
     "output_type": "execute_result"
    }
   ],
   "source": [
    "pg.ancova(data=plant_detection, dv='median_c', covar=['atm_temp', 'azmet_wind_velocity', 'azmet_relative_humidity'], \n",
    "          between='treatment')"
   ]
  },
  {
   "cell_type": "code",
   "execution_count": 164,
   "metadata": {},
   "outputs": [
    {
     "data": {
      "image/png": "[encoded data removed]",
      "text/plain": [
       "<Figure size 432x288 with 1 Axes>"
      ]
     },
     "metadata": {
      "needs_background": "light"
     },
     "output_type": "display_data"
    }
   ],
   "source": [
    "sns.boxplot(x='treatment', y='median_adj', data=plant_detection)\n",
    "plt.ylabel('Adjusted Plant Canopy Temperature (°C)')\n",
    "plt.title('Adj PCT vs Treatment')\n",
    "plt.tight_layout()\n",
    "#plt.savefig('PCT vs Treatment.png', dpi = 300)"
   ]
  },
  {
   "cell_type": "code",
   "execution_count": 26,
   "metadata": {},
   "outputs": [
    {
     "data": {
      "image/png": "[encoded data removed]",
      "text/plain": [
       "<Figure size 432x288 with 1 Axes>"
      ]
     },
     "metadata": {
      "needs_background": "light"
     },
     "output_type": "display_data"
    }
   ],
   "source": [
    "sns.boxplot(x='treatment', y='median_adj2', data=plant_detection)\n",
    "plt.ylabel('Adjusted Plant Canopy Temperature (°C)')\n",
    "plt.title('Adj PCT vs Treatment')\n",
    "plt.tight_layout()\n",
    "#plt.savefig('PCT vs Treatment.png', dpi = 300)"
   ]
  },
  {
   "cell_type": "code",
   "execution_count": null,
   "metadata": {},
   "outputs": [],
   "source": []
  }
 ],
 "metadata": {
  "kernelspec": {
   "display_name": "Python 3",
   "language": "python",
   "name": "python3"
  },
  "language_info": {
   "codemirror_mode": {
    "name": "ipython",
    "version": 3
   },
   "file_extension": ".py",
   "mimetype": "text/x-python",
   "name": "python",
   "nbconvert_exporter": "python",
   "pygments_lexer": "ipython3",
   "version": "3.8.3"
  }
 },
 "nbformat": 4,
 "nbformat_minor": 4
}
