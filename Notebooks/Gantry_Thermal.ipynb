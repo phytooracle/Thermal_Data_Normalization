{
 "cells": [
  {
   "cell_type": "code",
   "execution_count": 103,
   "id": "75b5066d-3ae9-4e47-88f0-51c1e175dd81",
   "metadata": {},
   "outputs": [],
   "source": [
    "import pandas as pd\n",
    "import numpy as np\n",
    "import os\n",
    "import glob\n",
    "import datetime\n",
    "import seaborn as sns\n",
    "import statsmodels.api as sm\n",
    "import matplotlib.pyplot as plt\n",
    "import pingouin as pg\n",
    "import pandas as pd # for data manipulation\n",
    "import numpy as np # for data manipulation\n",
    "from sklearn.linear_model import LinearRegression # to build a LR model for comparison\n",
    "import plotly.graph_objects as go # for data visualization\n",
    "import plotly.express as px # for data visualization \n",
    "import statsmodels.api as sm # to build a LOWESS model\n",
    "from scipy.interpolate import interp1d # for interpolation of new data points\n",
    "import subprocess\n",
    "import numpy as np\n",
    "import scipy\n",
    "from scipy.optimize import curve_fit\n",
    "from itertools import cycle\n",
    "from datetime import datetime"
   ]
  },
  {
   "cell_type": "code",
   "execution_count": 104,
   "id": "2ff11139-aa03-4f1e-a825-831d811834e4",
   "metadata": {},
   "outputs": [],
   "source": [
    "JSON_df = pd.read_csv('JSON_df.csv')"
   ]
  },
  {
   "cell_type": "code",
   "execution_count": 105,
   "id": "b9f49ba0-069f-4419-a5c4-00d57eb996a3",
   "metadata": {},
   "outputs": [],
   "source": [
    "del JSON_df['Unnamed: 0']"
   ]
  },
  {
   "cell_type": "code",
   "execution_count": 106,
   "id": "c4ed2953-015e-4411-9a61-fbfd58afe847",
   "metadata": {},
   "outputs": [],
   "source": [
    "JSON_df['time'] = pd.to_datetime(JSON_df['time'])"
   ]
  },
  {
   "cell_type": "code",
   "execution_count": 107,
   "id": "343a8f91-3376-452d-b46b-dc11c364cee4",
   "metadata": {},
   "outputs": [],
   "source": [
    "def specific_time(data, date1, date2):\n",
    "    data = data\n",
    "    specific_time_start = data[data['Hour'] >= date1]\n",
    "    specific_time_end = specific_time_start[specific_time_start['Hour'] <= date2]\n",
    "    return specific_time_end"
   ]
  },
  {
   "cell_type": "code",
   "execution_count": 108,
   "id": "bda27fc4-6bd4-4e49-b792-9e1b46e57568",
   "metadata": {},
   "outputs": [],
   "source": [
    "## Incorporate the specific time function into the cell below"
   ]
  },
  {
   "cell_type": "code",
   "execution_count": 305,
   "id": "62f6caea-78b6-493a-80ba-12233cc1600c",
   "metadata": {},
   "outputs": [
    {
     "name": "stdout",
     "output_type": "stream",
     "text": [
      "Document downloaded, loaded\n",
      "* * AZmet Date of Interest Gathered * *\n"
     ]
    }
   ],
   "source": [
    "date = '2020-09-11'\n",
    "\n",
    "year = date[2:4]\n",
    "\n",
    "AZmet_data = pd.read_csv(f\"https://cals.arizona.edu/azmet/data/06{year}rh.txt\", names = [\"Year\", \"Day\", \"Hour\", \n",
    "                                        \"Air Temperature\", \"Relative Humidity\", \n",
    "                                        \"VPD\", \"Solar Radiation\", \"Precipitation\", \n",
    "                                        \"4 inch Soil T\", \"12 inch Soil T\", \n",
    "                                        \"Avg Wind Speed\", \"Wind Vector Magnitude\", \n",
    "                                        \"Wind Vector Direction\", \"Wind Direction STDEV\", \n",
    "                                        \"Max Wind Speed\", \"Reference Evapotranspiration\", \n",
    "                                        \"Actual Vapor Pressure\", \"Dewpoint\"])\n",
    "print(\"Document downloaded, loaded\")\n",
    "\n",
    "AZmet_df = pd.DataFrame(AZmet_data)\n",
    "\n",
    "AZmet_df[\"combined\"] = AZmet_df[\"Year\"] * 1000 + AZmet_df[\"Day\"]\n",
    "AZmet_df[\"date\"] = pd.to_datetime(AZmet_df[\"combined\"], format=\"%Y%j\")\n",
    "AZmet_df = AZmet_df.set_index(\"date\")\n",
    "\n",
    "del AZmet_df[\"combined\"]\n",
    "\n",
    "date_of_interest = AZmet_df[AZmet_df.index == date]\n",
    "date_of_interest = date_of_interest.reset_index()\n",
    "\n",
    "# Finds the range of hours the Gantry was scanning on this day\n",
    "# start = JSON_df['time'][0].floor('H').hour\n",
    "# end = JSON_df['time'].iloc[-1].ceil('H', ambiguous = True).hour\n",
    "\n",
    "# start = JSON_df['time'][0].floor('D')\n",
    "# end = JSON_df['time'].iloc[-1].ceil('D')\n",
    "\n",
    "# Creates a dataframe with AZmet data only in that range of time\n",
    "#date_of_interest = specific_time(date_of_interest, start, end)\n",
    "\n",
    "# date_of_interest['Hour'] = pd.to_timedelta(date_of_interest['Hour'], unit = 'h')\n",
    "# date_of_interest['Minute'] = pd.to_timedelta(date_of_interest['Minute'], unit = 'm')\n",
    "\n",
    "# date_of_interest['date'] = date_of_interest['date'] + date_of_interest['Hour']\n",
    "# date_of_interest = date_of_interest.set_index('date')\n",
    "# date_of_interest = date_of_interest.reset_index()\n",
    "print(\"* * AZmet Date of Interest Gathered * *\")"
   ]
  },
  {
   "cell_type": "code",
   "execution_count": 308,
   "id": "84f6d6f6-6f91-48f4-9dc2-4e24af957e0a",
   "metadata": {},
   "outputs": [
    {
     "data": {
      "text/html": [
       "<div>\n",
       "<style scoped>\n",
       "    .dataframe tbody tr th:only-of-type {\n",
       "        vertical-align: middle;\n",
       "    }\n",
       "\n",
       "    .dataframe tbody tr th {\n",
       "        vertical-align: top;\n",
       "    }\n",
       "\n",
       "    .dataframe thead th {\n",
       "        text-align: right;\n",
       "    }\n",
       "</style>\n",
       "<table border=\"1\" class=\"dataframe\">\n",
       "  <thead>\n",
       "    <tr style=\"text-align: right;\">\n",
       "      <th></th>\n",
       "      <th>date</th>\n",
       "      <th>Year</th>\n",
       "      <th>Day</th>\n",
       "      <th>Hour</th>\n",
       "      <th>Air Temperature</th>\n",
       "      <th>Relative Humidity</th>\n",
       "      <th>VPD</th>\n",
       "      <th>Solar Radiation</th>\n",
       "      <th>Precipitation</th>\n",
       "      <th>4 inch Soil T</th>\n",
       "      <th>12 inch Soil T</th>\n",
       "      <th>Avg Wind Speed</th>\n",
       "      <th>Wind Vector Magnitude</th>\n",
       "      <th>Wind Vector Direction</th>\n",
       "      <th>Wind Direction STDEV</th>\n",
       "      <th>Max Wind Speed</th>\n",
       "      <th>Reference Evapotranspiration</th>\n",
       "      <th>Actual Vapor Pressure</th>\n",
       "      <th>Dewpoint</th>\n",
       "    </tr>\n",
       "  </thead>\n",
       "  <tbody>\n",
       "    <tr>\n",
       "      <th>0</th>\n",
       "      <td>2020-09-11</td>\n",
       "      <td>2020</td>\n",
       "      <td>255</td>\n",
       "      <td>1</td>\n",
       "      <td>19.4</td>\n",
       "      <td>35.0</td>\n",
       "      <td>1.46</td>\n",
       "      <td>0.00</td>\n",
       "      <td>0.0</td>\n",
       "      <td>26.0</td>\n",
       "      <td>29.9</td>\n",
       "      <td>0.7</td>\n",
       "      <td>0.7</td>\n",
       "      <td>151</td>\n",
       "      <td>14</td>\n",
       "      <td>1.7</td>\n",
       "      <td>0.04</td>\n",
       "      <td>0.79</td>\n",
       "      <td>3.5</td>\n",
       "    </tr>\n",
       "    <tr>\n",
       "      <th>1</th>\n",
       "      <td>2020-09-11</td>\n",
       "      <td>2020</td>\n",
       "      <td>255</td>\n",
       "      <td>2</td>\n",
       "      <td>17.9</td>\n",
       "      <td>46.0</td>\n",
       "      <td>1.11</td>\n",
       "      <td>0.00</td>\n",
       "      <td>0.0</td>\n",
       "      <td>25.2</td>\n",
       "      <td>29.9</td>\n",
       "      <td>0.9</td>\n",
       "      <td>0.9</td>\n",
       "      <td>99</td>\n",
       "      <td>21</td>\n",
       "      <td>1.7</td>\n",
       "      <td>0.03</td>\n",
       "      <td>0.94</td>\n",
       "      <td>6.0</td>\n",
       "    </tr>\n",
       "    <tr>\n",
       "      <th>2</th>\n",
       "      <td>2020-09-11</td>\n",
       "      <td>2020</td>\n",
       "      <td>255</td>\n",
       "      <td>3</td>\n",
       "      <td>18.3</td>\n",
       "      <td>40.1</td>\n",
       "      <td>1.26</td>\n",
       "      <td>0.00</td>\n",
       "      <td>0.0</td>\n",
       "      <td>24.6</td>\n",
       "      <td>29.9</td>\n",
       "      <td>1.4</td>\n",
       "      <td>0.8</td>\n",
       "      <td>145</td>\n",
       "      <td>51</td>\n",
       "      <td>3.0</td>\n",
       "      <td>0.04</td>\n",
       "      <td>0.84</td>\n",
       "      <td>4.5</td>\n",
       "    </tr>\n",
       "    <tr>\n",
       "      <th>3</th>\n",
       "      <td>2020-09-11</td>\n",
       "      <td>2020</td>\n",
       "      <td>255</td>\n",
       "      <td>4</td>\n",
       "      <td>17.4</td>\n",
       "      <td>40.5</td>\n",
       "      <td>1.18</td>\n",
       "      <td>0.00</td>\n",
       "      <td>0.0</td>\n",
       "      <td>23.9</td>\n",
       "      <td>29.9</td>\n",
       "      <td>1.2</td>\n",
       "      <td>1.0</td>\n",
       "      <td>136</td>\n",
       "      <td>31</td>\n",
       "      <td>2.0</td>\n",
       "      <td>0.04</td>\n",
       "      <td>0.80</td>\n",
       "      <td>3.8</td>\n",
       "    </tr>\n",
       "    <tr>\n",
       "      <th>4</th>\n",
       "      <td>2020-09-11</td>\n",
       "      <td>2020</td>\n",
       "      <td>255</td>\n",
       "      <td>5</td>\n",
       "      <td>15.6</td>\n",
       "      <td>49.2</td>\n",
       "      <td>0.90</td>\n",
       "      <td>0.00</td>\n",
       "      <td>0.0</td>\n",
       "      <td>23.2</td>\n",
       "      <td>29.9</td>\n",
       "      <td>0.6</td>\n",
       "      <td>0.1</td>\n",
       "      <td>104</td>\n",
       "      <td>54</td>\n",
       "      <td>1.8</td>\n",
       "      <td>0.02</td>\n",
       "      <td>0.87</td>\n",
       "      <td>5.0</td>\n",
       "    </tr>\n",
       "    <tr>\n",
       "      <th>5</th>\n",
       "      <td>2020-09-11</td>\n",
       "      <td>2020</td>\n",
       "      <td>255</td>\n",
       "      <td>6</td>\n",
       "      <td>15.7</td>\n",
       "      <td>45.3</td>\n",
       "      <td>0.98</td>\n",
       "      <td>0.00</td>\n",
       "      <td>0.0</td>\n",
       "      <td>22.6</td>\n",
       "      <td>29.8</td>\n",
       "      <td>0.9</td>\n",
       "      <td>0.7</td>\n",
       "      <td>216</td>\n",
       "      <td>38</td>\n",
       "      <td>2.0</td>\n",
       "      <td>0.02</td>\n",
       "      <td>0.81</td>\n",
       "      <td>3.9</td>\n",
       "    </tr>\n",
       "    <tr>\n",
       "      <th>6</th>\n",
       "      <td>2020-09-11</td>\n",
       "      <td>2020</td>\n",
       "      <td>255</td>\n",
       "      <td>7</td>\n",
       "      <td>15.1</td>\n",
       "      <td>51.3</td>\n",
       "      <td>0.84</td>\n",
       "      <td>0.07</td>\n",
       "      <td>0.0</td>\n",
       "      <td>22.2</td>\n",
       "      <td>29.7</td>\n",
       "      <td>0.3</td>\n",
       "      <td>0.0</td>\n",
       "      <td>237</td>\n",
       "      <td>47</td>\n",
       "      <td>1.8</td>\n",
       "      <td>0.03</td>\n",
       "      <td>0.88</td>\n",
       "      <td>5.1</td>\n",
       "    </tr>\n",
       "    <tr>\n",
       "      <th>7</th>\n",
       "      <td>2020-09-11</td>\n",
       "      <td>2020</td>\n",
       "      <td>255</td>\n",
       "      <td>8</td>\n",
       "      <td>16.6</td>\n",
       "      <td>48.8</td>\n",
       "      <td>0.97</td>\n",
       "      <td>0.38</td>\n",
       "      <td>0.0</td>\n",
       "      <td>22.0</td>\n",
       "      <td>29.7</td>\n",
       "      <td>0.7</td>\n",
       "      <td>0.4</td>\n",
       "      <td>9</td>\n",
       "      <td>43</td>\n",
       "      <td>1.7</td>\n",
       "      <td>0.05</td>\n",
       "      <td>0.93</td>\n",
       "      <td>5.8</td>\n",
       "    </tr>\n",
       "    <tr>\n",
       "      <th>8</th>\n",
       "      <td>2020-09-11</td>\n",
       "      <td>2020</td>\n",
       "      <td>255</td>\n",
       "      <td>9</td>\n",
       "      <td>19.1</td>\n",
       "      <td>39.6</td>\n",
       "      <td>1.34</td>\n",
       "      <td>0.78</td>\n",
       "      <td>0.0</td>\n",
       "      <td>22.0</td>\n",
       "      <td>29.6</td>\n",
       "      <td>0.5</td>\n",
       "      <td>0.4</td>\n",
       "      <td>157</td>\n",
       "      <td>23</td>\n",
       "      <td>1.8</td>\n",
       "      <td>0.11</td>\n",
       "      <td>0.87</td>\n",
       "      <td>5.0</td>\n",
       "    </tr>\n",
       "    <tr>\n",
       "      <th>9</th>\n",
       "      <td>2020-09-11</td>\n",
       "      <td>2020</td>\n",
       "      <td>255</td>\n",
       "      <td>10</td>\n",
       "      <td>22.4</td>\n",
       "      <td>31.9</td>\n",
       "      <td>1.85</td>\n",
       "      <td>1.24</td>\n",
       "      <td>0.0</td>\n",
       "      <td>22.4</td>\n",
       "      <td>29.5</td>\n",
       "      <td>0.3</td>\n",
       "      <td>0.3</td>\n",
       "      <td>204</td>\n",
       "      <td>22</td>\n",
       "      <td>1.5</td>\n",
       "      <td>0.22</td>\n",
       "      <td>0.86</td>\n",
       "      <td>4.8</td>\n",
       "    </tr>\n",
       "    <tr>\n",
       "      <th>10</th>\n",
       "      <td>2020-09-11</td>\n",
       "      <td>2020</td>\n",
       "      <td>255</td>\n",
       "      <td>11</td>\n",
       "      <td>25.6</td>\n",
       "      <td>32.9</td>\n",
       "      <td>2.20</td>\n",
       "      <td>1.64</td>\n",
       "      <td>0.0</td>\n",
       "      <td>23.2</td>\n",
       "      <td>29.4</td>\n",
       "      <td>0.3</td>\n",
       "      <td>0.1</td>\n",
       "      <td>321</td>\n",
       "      <td>40</td>\n",
       "      <td>1.5</td>\n",
       "      <td>0.32</td>\n",
       "      <td>1.08</td>\n",
       "      <td>8.1</td>\n",
       "    </tr>\n",
       "    <tr>\n",
       "      <th>11</th>\n",
       "      <td>2020-09-11</td>\n",
       "      <td>2020</td>\n",
       "      <td>255</td>\n",
       "      <td>12</td>\n",
       "      <td>27.8</td>\n",
       "      <td>34.1</td>\n",
       "      <td>2.47</td>\n",
       "      <td>1.88</td>\n",
       "      <td>0.0</td>\n",
       "      <td>24.2</td>\n",
       "      <td>29.3</td>\n",
       "      <td>0.9</td>\n",
       "      <td>0.4</td>\n",
       "      <td>104</td>\n",
       "      <td>55</td>\n",
       "      <td>2.5</td>\n",
       "      <td>0.40</td>\n",
       "      <td>1.27</td>\n",
       "      <td>10.6</td>\n",
       "    </tr>\n",
       "    <tr>\n",
       "      <th>12</th>\n",
       "      <td>2020-09-11</td>\n",
       "      <td>2020</td>\n",
       "      <td>255</td>\n",
       "      <td>13</td>\n",
       "      <td>29.3</td>\n",
       "      <td>31.4</td>\n",
       "      <td>2.80</td>\n",
       "      <td>1.85</td>\n",
       "      <td>0.0</td>\n",
       "      <td>25.1</td>\n",
       "      <td>29.2</td>\n",
       "      <td>1.0</td>\n",
       "      <td>0.6</td>\n",
       "      <td>347</td>\n",
       "      <td>48</td>\n",
       "      <td>3.5</td>\n",
       "      <td>0.41</td>\n",
       "      <td>1.28</td>\n",
       "      <td>10.6</td>\n",
       "    </tr>\n",
       "    <tr>\n",
       "      <th>13</th>\n",
       "      <td>2020-09-11</td>\n",
       "      <td>2020</td>\n",
       "      <td>255</td>\n",
       "      <td>14</td>\n",
       "      <td>30.1</td>\n",
       "      <td>29.7</td>\n",
       "      <td>3.00</td>\n",
       "      <td>1.30</td>\n",
       "      <td>0.0</td>\n",
       "      <td>25.8</td>\n",
       "      <td>29.1</td>\n",
       "      <td>0.9</td>\n",
       "      <td>0.5</td>\n",
       "      <td>227</td>\n",
       "      <td>49</td>\n",
       "      <td>2.5</td>\n",
       "      <td>0.28</td>\n",
       "      <td>1.27</td>\n",
       "      <td>10.4</td>\n",
       "    </tr>\n",
       "    <tr>\n",
       "      <th>14</th>\n",
       "      <td>2020-09-11</td>\n",
       "      <td>2020</td>\n",
       "      <td>255</td>\n",
       "      <td>15</td>\n",
       "      <td>30.5</td>\n",
       "      <td>28.4</td>\n",
       "      <td>3.13</td>\n",
       "      <td>1.16</td>\n",
       "      <td>0.0</td>\n",
       "      <td>26.1</td>\n",
       "      <td>29.0</td>\n",
       "      <td>0.8</td>\n",
       "      <td>0.5</td>\n",
       "      <td>303</td>\n",
       "      <td>39</td>\n",
       "      <td>2.2</td>\n",
       "      <td>0.24</td>\n",
       "      <td>1.24</td>\n",
       "      <td>10.1</td>\n",
       "    </tr>\n",
       "    <tr>\n",
       "      <th>15</th>\n",
       "      <td>2020-09-11</td>\n",
       "      <td>2020</td>\n",
       "      <td>255</td>\n",
       "      <td>16</td>\n",
       "      <td>31.0</td>\n",
       "      <td>26.3</td>\n",
       "      <td>3.31</td>\n",
       "      <td>1.17</td>\n",
       "      <td>0.0</td>\n",
       "      <td>26.3</td>\n",
       "      <td>28.9</td>\n",
       "      <td>1.1</td>\n",
       "      <td>1.0</td>\n",
       "      <td>339</td>\n",
       "      <td>27</td>\n",
       "      <td>2.8</td>\n",
       "      <td>0.26</td>\n",
       "      <td>1.18</td>\n",
       "      <td>9.5</td>\n",
       "    </tr>\n",
       "    <tr>\n",
       "      <th>16</th>\n",
       "      <td>2020-09-11</td>\n",
       "      <td>2020</td>\n",
       "      <td>255</td>\n",
       "      <td>17</td>\n",
       "      <td>31.1</td>\n",
       "      <td>24.8</td>\n",
       "      <td>3.41</td>\n",
       "      <td>0.78</td>\n",
       "      <td>0.0</td>\n",
       "      <td>26.4</td>\n",
       "      <td>28.8</td>\n",
       "      <td>0.6</td>\n",
       "      <td>0.3</td>\n",
       "      <td>22</td>\n",
       "      <td>42</td>\n",
       "      <td>2.0</td>\n",
       "      <td>0.14</td>\n",
       "      <td>1.12</td>\n",
       "      <td>8.7</td>\n",
       "    </tr>\n",
       "    <tr>\n",
       "      <th>17</th>\n",
       "      <td>2020-09-11</td>\n",
       "      <td>2020</td>\n",
       "      <td>255</td>\n",
       "      <td>18</td>\n",
       "      <td>30.7</td>\n",
       "      <td>24.5</td>\n",
       "      <td>3.33</td>\n",
       "      <td>0.31</td>\n",
       "      <td>0.0</td>\n",
       "      <td>26.2</td>\n",
       "      <td>28.8</td>\n",
       "      <td>0.1</td>\n",
       "      <td>0.1</td>\n",
       "      <td>80</td>\n",
       "      <td>5</td>\n",
       "      <td>1.0</td>\n",
       "      <td>0.07</td>\n",
       "      <td>1.08</td>\n",
       "      <td>8.1</td>\n",
       "    </tr>\n",
       "    <tr>\n",
       "      <th>18</th>\n",
       "      <td>2020-09-11</td>\n",
       "      <td>2020</td>\n",
       "      <td>255</td>\n",
       "      <td>19</td>\n",
       "      <td>28.1</td>\n",
       "      <td>29.9</td>\n",
       "      <td>2.68</td>\n",
       "      <td>0.04</td>\n",
       "      <td>0.0</td>\n",
       "      <td>25.9</td>\n",
       "      <td>28.7</td>\n",
       "      <td>0.8</td>\n",
       "      <td>0.8</td>\n",
       "      <td>203</td>\n",
       "      <td>11</td>\n",
       "      <td>1.6</td>\n",
       "      <td>0.07</td>\n",
       "      <td>1.13</td>\n",
       "      <td>8.8</td>\n",
       "    </tr>\n",
       "    <tr>\n",
       "      <th>19</th>\n",
       "      <td>2020-09-11</td>\n",
       "      <td>2020</td>\n",
       "      <td>255</td>\n",
       "      <td>20</td>\n",
       "      <td>26.5</td>\n",
       "      <td>30.4</td>\n",
       "      <td>2.41</td>\n",
       "      <td>0.00</td>\n",
       "      <td>0.0</td>\n",
       "      <td>25.3</td>\n",
       "      <td>28.7</td>\n",
       "      <td>0.8</td>\n",
       "      <td>0.8</td>\n",
       "      <td>231</td>\n",
       "      <td>12</td>\n",
       "      <td>1.4</td>\n",
       "      <td>0.06</td>\n",
       "      <td>1.05</td>\n",
       "      <td>7.7</td>\n",
       "    </tr>\n",
       "    <tr>\n",
       "      <th>20</th>\n",
       "      <td>2020-09-11</td>\n",
       "      <td>2020</td>\n",
       "      <td>255</td>\n",
       "      <td>21</td>\n",
       "      <td>24.1</td>\n",
       "      <td>35.9</td>\n",
       "      <td>1.93</td>\n",
       "      <td>0.00</td>\n",
       "      <td>0.0</td>\n",
       "      <td>24.8</td>\n",
       "      <td>28.7</td>\n",
       "      <td>0.0</td>\n",
       "      <td>0.0</td>\n",
       "      <td>177</td>\n",
       "      <td>5</td>\n",
       "      <td>0.6</td>\n",
       "      <td>0.03</td>\n",
       "      <td>1.08</td>\n",
       "      <td>8.1</td>\n",
       "    </tr>\n",
       "    <tr>\n",
       "      <th>21</th>\n",
       "      <td>2020-09-11</td>\n",
       "      <td>2020</td>\n",
       "      <td>255</td>\n",
       "      <td>22</td>\n",
       "      <td>22.1</td>\n",
       "      <td>40.2</td>\n",
       "      <td>1.60</td>\n",
       "      <td>0.00</td>\n",
       "      <td>0.0</td>\n",
       "      <td>24.3</td>\n",
       "      <td>28.6</td>\n",
       "      <td>1.1</td>\n",
       "      <td>1.1</td>\n",
       "      <td>143</td>\n",
       "      <td>14</td>\n",
       "      <td>2.1</td>\n",
       "      <td>0.05</td>\n",
       "      <td>1.07</td>\n",
       "      <td>7.9</td>\n",
       "    </tr>\n",
       "    <tr>\n",
       "      <th>22</th>\n",
       "      <td>2020-09-11</td>\n",
       "      <td>2020</td>\n",
       "      <td>255</td>\n",
       "      <td>23</td>\n",
       "      <td>20.9</td>\n",
       "      <td>45.0</td>\n",
       "      <td>1.36</td>\n",
       "      <td>0.00</td>\n",
       "      <td>0.0</td>\n",
       "      <td>23.8</td>\n",
       "      <td>28.6</td>\n",
       "      <td>0.8</td>\n",
       "      <td>0.8</td>\n",
       "      <td>148</td>\n",
       "      <td>12</td>\n",
       "      <td>1.4</td>\n",
       "      <td>0.03</td>\n",
       "      <td>1.11</td>\n",
       "      <td>8.5</td>\n",
       "    </tr>\n",
       "    <tr>\n",
       "      <th>23</th>\n",
       "      <td>2020-09-11</td>\n",
       "      <td>2020</td>\n",
       "      <td>255</td>\n",
       "      <td>24</td>\n",
       "      <td>20.3</td>\n",
       "      <td>45.2</td>\n",
       "      <td>1.30</td>\n",
       "      <td>0.00</td>\n",
       "      <td>0.0</td>\n",
       "      <td>23.4</td>\n",
       "      <td>28.6</td>\n",
       "      <td>1.4</td>\n",
       "      <td>1.4</td>\n",
       "      <td>142</td>\n",
       "      <td>12</td>\n",
       "      <td>2.3</td>\n",
       "      <td>0.04</td>\n",
       "      <td>1.07</td>\n",
       "      <td>8.0</td>\n",
       "    </tr>\n",
       "  </tbody>\n",
       "</table>\n",
       "</div>"
      ],
      "text/plain": [
       "         date  Year  Day  Hour  Air Temperature  Relative Humidity   VPD  \\\n",
       "0  2020-09-11  2020  255     1             19.4               35.0  1.46   \n",
       "1  2020-09-11  2020  255     2             17.9               46.0  1.11   \n",
       "2  2020-09-11  2020  255     3             18.3               40.1  1.26   \n",
       "3  2020-09-11  2020  255     4             17.4               40.5  1.18   \n",
       "4  2020-09-11  2020  255     5             15.6               49.2  0.90   \n",
       "5  2020-09-11  2020  255     6             15.7               45.3  0.98   \n",
       "6  2020-09-11  2020  255     7             15.1               51.3  0.84   \n",
       "7  2020-09-11  2020  255     8             16.6               48.8  0.97   \n",
       "8  2020-09-11  2020  255     9             19.1               39.6  1.34   \n",
       "9  2020-09-11  2020  255    10             22.4               31.9  1.85   \n",
       "10 2020-09-11  2020  255    11             25.6               32.9  2.20   \n",
       "11 2020-09-11  2020  255    12             27.8               34.1  2.47   \n",
       "12 2020-09-11  2020  255    13             29.3               31.4  2.80   \n",
       "13 2020-09-11  2020  255    14             30.1               29.7  3.00   \n",
       "14 2020-09-11  2020  255    15             30.5               28.4  3.13   \n",
       "15 2020-09-11  2020  255    16             31.0               26.3  3.31   \n",
       "16 2020-09-11  2020  255    17             31.1               24.8  3.41   \n",
       "17 2020-09-11  2020  255    18             30.7               24.5  3.33   \n",
       "18 2020-09-11  2020  255    19             28.1               29.9  2.68   \n",
       "19 2020-09-11  2020  255    20             26.5               30.4  2.41   \n",
       "20 2020-09-11  2020  255    21             24.1               35.9  1.93   \n",
       "21 2020-09-11  2020  255    22             22.1               40.2  1.60   \n",
       "22 2020-09-11  2020  255    23             20.9               45.0  1.36   \n",
       "23 2020-09-11  2020  255    24             20.3               45.2  1.30   \n",
       "\n",
       "    Solar Radiation  Precipitation  4 inch Soil T  12 inch Soil T  \\\n",
       "0              0.00            0.0           26.0            29.9   \n",
       "1              0.00            0.0           25.2            29.9   \n",
       "2              0.00            0.0           24.6            29.9   \n",
       "3              0.00            0.0           23.9            29.9   \n",
       "4              0.00            0.0           23.2            29.9   \n",
       "5              0.00            0.0           22.6            29.8   \n",
       "6              0.07            0.0           22.2            29.7   \n",
       "7              0.38            0.0           22.0            29.7   \n",
       "8              0.78            0.0           22.0            29.6   \n",
       "9              1.24            0.0           22.4            29.5   \n",
       "10             1.64            0.0           23.2            29.4   \n",
       "11             1.88            0.0           24.2            29.3   \n",
       "12             1.85            0.0           25.1            29.2   \n",
       "13             1.30            0.0           25.8            29.1   \n",
       "14             1.16            0.0           26.1            29.0   \n",
       "15             1.17            0.0           26.3            28.9   \n",
       "16             0.78            0.0           26.4            28.8   \n",
       "17             0.31            0.0           26.2            28.8   \n",
       "18             0.04            0.0           25.9            28.7   \n",
       "19             0.00            0.0           25.3            28.7   \n",
       "20             0.00            0.0           24.8            28.7   \n",
       "21             0.00            0.0           24.3            28.6   \n",
       "22             0.00            0.0           23.8            28.6   \n",
       "23             0.00            0.0           23.4            28.6   \n",
       "\n",
       "    Avg Wind Speed  Wind Vector Magnitude  Wind Vector Direction  \\\n",
       "0              0.7                    0.7                    151   \n",
       "1              0.9                    0.9                     99   \n",
       "2              1.4                    0.8                    145   \n",
       "3              1.2                    1.0                    136   \n",
       "4              0.6                    0.1                    104   \n",
       "5              0.9                    0.7                    216   \n",
       "6              0.3                    0.0                    237   \n",
       "7              0.7                    0.4                      9   \n",
       "8              0.5                    0.4                    157   \n",
       "9              0.3                    0.3                    204   \n",
       "10             0.3                    0.1                    321   \n",
       "11             0.9                    0.4                    104   \n",
       "12             1.0                    0.6                    347   \n",
       "13             0.9                    0.5                    227   \n",
       "14             0.8                    0.5                    303   \n",
       "15             1.1                    1.0                    339   \n",
       "16             0.6                    0.3                     22   \n",
       "17             0.1                    0.1                     80   \n",
       "18             0.8                    0.8                    203   \n",
       "19             0.8                    0.8                    231   \n",
       "20             0.0                    0.0                    177   \n",
       "21             1.1                    1.1                    143   \n",
       "22             0.8                    0.8                    148   \n",
       "23             1.4                    1.4                    142   \n",
       "\n",
       "    Wind Direction STDEV  Max Wind Speed  Reference Evapotranspiration  \\\n",
       "0                     14             1.7                          0.04   \n",
       "1                     21             1.7                          0.03   \n",
       "2                     51             3.0                          0.04   \n",
       "3                     31             2.0                          0.04   \n",
       "4                     54             1.8                          0.02   \n",
       "5                     38             2.0                          0.02   \n",
       "6                     47             1.8                          0.03   \n",
       "7                     43             1.7                          0.05   \n",
       "8                     23             1.8                          0.11   \n",
       "9                     22             1.5                          0.22   \n",
       "10                    40             1.5                          0.32   \n",
       "11                    55             2.5                          0.40   \n",
       "12                    48             3.5                          0.41   \n",
       "13                    49             2.5                          0.28   \n",
       "14                    39             2.2                          0.24   \n",
       "15                    27             2.8                          0.26   \n",
       "16                    42             2.0                          0.14   \n",
       "17                     5             1.0                          0.07   \n",
       "18                    11             1.6                          0.07   \n",
       "19                    12             1.4                          0.06   \n",
       "20                     5             0.6                          0.03   \n",
       "21                    14             2.1                          0.05   \n",
       "22                    12             1.4                          0.03   \n",
       "23                    12             2.3                          0.04   \n",
       "\n",
       "    Actual Vapor Pressure  Dewpoint  \n",
       "0                    0.79       3.5  \n",
       "1                    0.94       6.0  \n",
       "2                    0.84       4.5  \n",
       "3                    0.80       3.8  \n",
       "4                    0.87       5.0  \n",
       "5                    0.81       3.9  \n",
       "6                    0.88       5.1  \n",
       "7                    0.93       5.8  \n",
       "8                    0.87       5.0  \n",
       "9                    0.86       4.8  \n",
       "10                   1.08       8.1  \n",
       "11                   1.27      10.6  \n",
       "12                   1.28      10.6  \n",
       "13                   1.27      10.4  \n",
       "14                   1.24      10.1  \n",
       "15                   1.18       9.5  \n",
       "16                   1.12       8.7  \n",
       "17                   1.08       8.1  \n",
       "18                   1.13       8.8  \n",
       "19                   1.05       7.7  \n",
       "20                   1.08       8.1  \n",
       "21                   1.07       7.9  \n",
       "22                   1.11       8.5  \n",
       "23                   1.07       8.0  "
      ]
     },
     "execution_count": 308,
     "metadata": {},
     "output_type": "execute_result"
    }
   ],
   "source": [
    "date_of_interest"
   ]
  },
  {
   "cell_type": "code",
   "execution_count": 273,
   "id": "68605f51-536c-4a0f-99f1-180c495e8448",
   "metadata": {},
   "outputs": [],
   "source": [
    "# start = JSON_df['time'][0].floor('D')\n",
    "# end = JSON_df['time'].iloc[-1].ceil('D')"
   ]
  },
  {
   "cell_type": "code",
   "execution_count": 274,
   "id": "0f7eec08-8348-4d3b-b9ea-82958570b16a",
   "metadata": {},
   "outputs": [],
   "source": [
    "# AZmet_df['Hour'] = pd.to_timedelta(AZmet_df['Hour'], unit = 'h')"
   ]
  },
  {
   "cell_type": "code",
   "execution_count": 275,
   "id": "b282f6e5-eaf0-4246-92e2-905d7939e552",
   "metadata": {},
   "outputs": [],
   "source": [
    "# AZmet_df['Time'] = AZmet_df['date'] + AZmet_df['Hour']"
   ]
  },
  {
   "cell_type": "code",
   "execution_count": 276,
   "id": "96a14c1e-1b69-4e56-9ab9-273f69b8f93f",
   "metadata": {},
   "outputs": [],
   "source": [
    "# AZmet_df = AZmet_df.set_index('Time')"
   ]
  },
  {
   "cell_type": "code",
   "execution_count": 277,
   "id": "e1dc7edf-f0b4-4280-9bc2-0a4a8c60f680",
   "metadata": {},
   "outputs": [],
   "source": [
    "# date_of_interest = AZmet_df[AZmet_df.index >= start]\n",
    "# date_of_interest = date_of_interest[date_of_interest.index <= end].reset_index()"
   ]
  },
  {
   "cell_type": "code",
   "execution_count": 278,
   "id": "458be9f2-8405-4535-bf41-f4ecbe48aeaf",
   "metadata": {},
   "outputs": [],
   "source": [
    "# date_of_interest['Hour'] = date_of_interest['Time'].dt.hour"
   ]
  },
  {
   "cell_type": "code",
   "execution_count": 307,
   "id": "2871f62c-f2b4-4ac7-902b-3d09ed547aea",
   "metadata": {},
   "outputs": [
    {
     "data": {
      "text/plain": [
       "Text(0, 0.5, 'Air Temperature (°C)')"
      ]
     },
     "execution_count": 307,
     "metadata": {},
     "output_type": "execute_result"
    },
    {
     "data": {
      "image/png": "[encoded data removed]",
      "text/plain": [
       "<Figure size 432x288 with 1 Axes>"
      ]
     },
     "metadata": {
      "needs_background": "light"
     },
     "output_type": "display_data"
    }
   ],
   "source": [
    "sns.scatterplot(data = date_of_interest, x = 'Hour', y = 'Air Temperature')\n",
    "plt.title('AZmet Daily Air Temperature')\n",
    "plt.ylabel('Air Temperature (°C)')\n",
    "# plt.axvline(11.7, color = 'r', linestyle = 'dotted')\n",
    "# plt.axvline(13.5, color = 'r', linestyle = 'dotted')\n",
    "# plt.text(2, 38, '---   Scan Window', bbox=dict(facecolor='salmon', alpha=0.5));"
   ]
  },
  {
   "cell_type": "code",
   "execution_count": 280,
   "id": "c9ce24f6-94f9-48b7-88fd-4def54cbfcb8",
   "metadata": {},
   "outputs": [],
   "source": [
    "# # ------- Select variables -------\n",
    "# # x values for Linear Regression\n",
    "# X = date_of_interest['Hour'].values.reshape(-1,1) # Note, we need X to be a 2D array, hence reshape\n",
    "# # x values for LOWESS\n",
    "# x = date_of_interest['Hour'].values \n",
    "# # y values for both\n",
    "# y = date_of_interest['Air Temperature'].values\n",
    "\n",
    "\n",
    "# # ------- Linear Regression -------\n",
    "# # Define and fit the model\n",
    "# lowess = sm.nonparametric.lowess\n",
    "\n",
    "# model1 = LinearRegression()\n",
    "# LR = model1.fit(X, y)\n",
    "\n",
    "# # Predict a few points with Linear Regression model for the grpah\n",
    "# # Create 20 evenly spaced points from smallest X to largest X\n",
    "# x_range = np.linspace(X.min(), X.max(), 20) \n",
    "# # Predict y values for our set of X values\n",
    "# y_range = model1.predict(x_range.reshape(-1, 1))\n",
    "\n",
    "\n",
    "# # ------- LOWESS -------\n",
    "# # Generate y_hat values using lowess, try a couple values for hyperparameters\n",
    "# y_hat1 = lowess(y, x) # note, default frac=2/3\n",
    "# y_hat2 = lowess(y, x, frac=1/5)"
   ]
  },
  {
   "cell_type": "code",
   "execution_count": 281,
   "id": "20fc7a96-bee7-49f2-8b7c-86abade36e15",
   "metadata": {},
   "outputs": [],
   "source": [
    "# # ------- Define interpolation functions -------\n",
    "# # Linear - draws a line between the two nearest points and calculates y value based on the slope of that line\n",
    "# f_linear = interp1d(y_hat1[:,0], y=y_hat1[:,1], bounds_error=False, kind='linear', fill_value='extrapolate') \n",
    "# # Nearest - finds the nearest available point and takes its y value\n",
    "# f_nearest = interp1d(y_hat1[:,0], y=y_hat1[:,1], bounds_error=False, kind='nearest', fill_value='extrapolate') \n",
    "\n",
    "# # Create a new set of points with x values \n",
    "# xnew = np.arange(0, 24, 0.1)\n",
    "\n",
    "# # Find y values based on the two different interpolation methods\n",
    "# ynew_linear = f_linear(xnew)\n",
    "# ynew_nearest = f_nearest(xnew)"
   ]
  },
  {
   "cell_type": "code",
   "execution_count": 282,
   "id": "d947bc43-97bf-4b37-9a19-a48acbfdf28a",
   "metadata": {},
   "outputs": [],
   "source": [
    "# sns.scatterplot(data = date_of_interest, x = 'Hour', y = 'Air Temperature')\n",
    "# plt.plot(xnew, ynew_linear)\n",
    "# plt.title('Lowess Model');"
   ]
  },
  {
   "cell_type": "code",
   "execution_count": 283,
   "id": "cb243f32-2519-439f-aa94-d7716eaf678d",
   "metadata": {},
   "outputs": [],
   "source": [
    "# sns.lineplot(data = date_of_interest, x = 'Hour', y = 'Air Temperature')"
   ]
  },
  {
   "cell_type": "markdown",
   "id": "5cf33071-18b4-4ed0-a15e-a65567d36af6",
   "metadata": {},
   "source": [
    "## Attempt using non-linear regression"
   ]
  },
  {
   "cell_type": "code",
   "execution_count": 284,
   "id": "554c15a4-a591-492e-9fbb-4692ecd7e419",
   "metadata": {},
   "outputs": [],
   "source": [
    "# # define the true objective function\n",
    "# def objective(x, a, b, c):\n",
    "# \treturn a * x + b * x**2 + c"
   ]
  },
  {
   "cell_type": "code",
   "execution_count": 285,
   "id": "9ca43dbc-a680-4f9a-9fff-5db57a5c9f0f",
   "metadata": {},
   "outputs": [],
   "source": [
    "# from numpy import arange\n",
    "# from pandas import read_csv\n",
    "# from scipy.optimize import curve_fit\n",
    "# from matplotlib import pyplot\n",
    " \n",
    "# # define the true objective function\n",
    "# def objective(x, a, b, c):\n",
    "# \treturn a * x + b * x**2 + c\n",
    " \n",
    "# # load the dataset\n",
    "# url = 'https://raw.githubusercontent.com/jbrownlee/Datasets/master/longley.csv'\n",
    "# dataframe = read_csv(url, header=None)\n",
    "# data = dataframe.values\n",
    "# # choose the input and output variables\n",
    "# x, y = date_of_interest['Hour'].values, date_of_interest['Air Temperature'].values\n",
    "# # curve fit\n",
    "# popt, _ = curve_fit(objective, x, y)\n",
    "# # summarize the parameter values\n",
    "# a, b, c = popt\n",
    "# print('y = %.5f * x + %.5f * x^2 + %.5f' % (a, b, c))\n",
    "# # plot input vs output\n",
    "# pyplot.scatter(x, y)\n",
    "# # define a sequence of inputs between the smallest and largest known inputs\n",
    "# x_line = arange(min(x), max(x), 0.01)\n",
    "# # calculate the output for the range\n",
    "# y_line = objective(x_line, a, b, c)\n",
    "# # create a line plot for the mapping function\n",
    "# pyplot.plot(x_line, y_line, '--', color='red')\n",
    "# pyplot.show()"
   ]
  },
  {
   "cell_type": "code",
   "execution_count": 286,
   "id": "1eb8d539-2ce9-43e8-807e-d75ae781308b",
   "metadata": {},
   "outputs": [],
   "source": [
    "# xrange = np.arange(start, end, 0.016667)\n",
    "# ynew_list = []\n",
    "\n",
    "# for x in xrange:\n",
    "#     ynew = a * x + b * x**2 + c # a, b, and c were defined in the previous cell\n",
    "#     ynew_list.append(ynew)"
   ]
  },
  {
   "cell_type": "code",
   "execution_count": 287,
   "id": "7fbe8df0-c6a7-47a3-90ff-8468e9e14e32",
   "metadata": {},
   "outputs": [],
   "source": [
    "# plt.plot(xrange, ynew_list);\n",
    "# Worked well when I subsetted the time of day before fitting the line and predicting values\n",
    "## Might be best to fit a non-linear regression from the daily values rather than when the scans were happening"
   ]
  },
  {
   "cell_type": "markdown",
   "id": "084987f5-bdd4-4634-baeb-0d585cd90c65",
   "metadata": {},
   "source": [
    "## Using polynomisl regression"
   ]
  },
  {
   "cell_type": "code",
   "execution_count": 288,
   "id": "be569b35-bb67-454c-b12c-1a996159fb30",
   "metadata": {},
   "outputs": [],
   "source": [
    "# data_x = date_of_interest['Hour'].values\n",
    "# data_y = date_of_interest['Air Temperature'].values\n",
    "\n",
    "# # Dividing data into train and validation datasets\n",
    "# from sklearn.model_selection import train_test_split\n",
    "# train_x, valid_x, train_y, valid_y = train_test_split(data_x, data_y, test_size=0.33, random_state = 1)\n",
    "\n",
    "# # Visualize the relationship b/w age and wage\n",
    "# import matplotlib.pyplot as plt\n",
    "# plt.scatter(train_x, train_y, facecolor='None', edgecolor='k', alpha=0.3)\n",
    "# plt.show()"
   ]
  },
  {
   "cell_type": "code",
   "execution_count": 289,
   "id": "5145afe2-5463-413d-a270-fdb8df2886f7",
   "metadata": {},
   "outputs": [],
   "source": [
    "# from sklearn.linear_model import LinearRegression\n",
    "\n",
    "# # Fitting linear regression model\n",
    "# x = train_x.reshape(-1,1)\n",
    "# model = LinearRegression()\n",
    "# model.fit(x,train_y)\n",
    "# print(model.coef_)\n",
    "# print(model.intercept_)"
   ]
  },
  {
   "cell_type": "code",
   "execution_count": 290,
   "id": "af5111cf-c9c9-4650-ba4b-0e306dc0ed10",
   "metadata": {},
   "outputs": [],
   "source": [
    "# # Prediction on validation dataset\n",
    "# valid_x = valid_x.reshape(-1,1)\n",
    "# pred = model.predict(valid_x)\n",
    "\n",
    "# # Visualisation\n",
    "# # We will use 70 plots between minimum and maximum values of valid_x for plotting\n",
    "# xp = np.linspace(valid_x.min(),valid_x.max(),70)\n",
    "# xp = xp.reshape(-1,1)\n",
    "# pred_plot = model.predict(xp)\n",
    "\n",
    "# plt.scatter(valid_x, valid_y, facecolor='None', edgecolor='k', alpha=0.3)\n",
    "# plt.plot(xp, pred_plot)\n",
    "# plt.show()"
   ]
  },
  {
   "cell_type": "code",
   "execution_count": 291,
   "id": "17e15690-f825-403e-9437-dfced922f467",
   "metadata": {},
   "outputs": [],
   "source": [
    "# from sklearn.metrics import mean_squared_error\n",
    "# from math import sqrt\n",
    "\n",
    "# rms = sqrt(mean_squared_error(valid_y, pred))\n",
    "# print(rms)"
   ]
  },
  {
   "cell_type": "code",
   "execution_count": 292,
   "id": "62bd577b-4f15-4c1b-8964-0fe5eb452299",
   "metadata": {},
   "outputs": [],
   "source": [
    "# #Generating weights for polynomial function with degree =2\n",
    "# weights = np.polyfit(train_x, train_y, 7)\n",
    "# print(weights)\n",
    "\n",
    "# # Generating model with the given weights\n",
    "# model = np.poly1d(weights)\n",
    "\n",
    "# # Prediction on validation set\n",
    "# pred = model(valid_x)\n",
    "# # We will plot the graph for 70 observations only\n",
    "# xp = np.linspace(valid_x.min(),valid_x.max(),30)\n",
    "# pred_plot = model(xp)\n",
    "# plt.scatter(data_x, data_y, facecolor='None', edgecolor='k', alpha=0.9)\n",
    "# plt.plot(xp, pred_plot)\n",
    "# plt.title('Polynomial Regression Degree = 7')\n",
    "# plt.show()"
   ]
  },
  {
   "cell_type": "markdown",
   "id": "01c137bf-eda5-482b-a064-c56282c3c6f9",
   "metadata": {},
   "source": [
    "## Regression splines"
   ]
  },
  {
   "cell_type": "code",
   "execution_count": 301,
   "id": "bf0caaa2-3cf2-4efb-bd4d-c51fac063d78",
   "metadata": {},
   "outputs": [],
   "source": [
    "from scipy.interpolate import UnivariateSpline\n",
    "\n",
    "x, y = date_of_interest['Hour'].values, date_of_interest['Air Temperature'].values\n",
    "w = np.isnan(y)\n",
    "spl = UnivariateSpline(x, y)\n",
    "#spl.set_smoothing_factor(100)"
   ]
  },
  {
   "cell_type": "code",
   "execution_count": 302,
   "id": "cf38a1b5-7d46-419a-87d6-2567a300dcca",
   "metadata": {},
   "outputs": [],
   "source": [
    "# sns.scatterplot(data = date_of_interest, x = 'Hour', y = 'Air Temperature')\n",
    "# plt.plot(x, spl(x), 'r', lw=3)"
   ]
  },
  {
   "cell_type": "code",
   "execution_count": 303,
   "id": "74ef25f5-a8fe-4d69-bf8d-d3b357b84af2",
   "metadata": {},
   "outputs": [],
   "source": [
    "xrange = np.arange(0, 24, 0.01667)"
   ]
  },
  {
   "cell_type": "code",
   "execution_count": 304,
   "id": "211cf593-4901-4872-b340-e4ad39ae2786",
   "metadata": {},
   "outputs": [
    {
     "data": {
      "image/png": "[encoded data removed]",
      "text/plain": [
       "<Figure size 432x288 with 1 Axes>"
      ]
     },
     "metadata": {
      "needs_background": "light"
     },
     "output_type": "display_data"
    }
   ],
   "source": [
    "sns.scatterplot(data = date_of_interest, x = 'Hour', y = 'Air Temperature')\n",
    "plt.plot(xrange, spl(xrange), 'r', lw=3)\n",
    "plt.title(date)\n",
    "plt.ylabel('Air Temperature (°C)');"
   ]
  },
  {
   "cell_type": "code",
   "execution_count": 49,
   "id": "93fec230-2b17-44e0-b376-5911124dea59",
   "metadata": {},
   "outputs": [],
   "source": [
    "# minute_cycle = cycle(np.arange(0, 60, 1))\n",
    "# d = {'Minute': np.arange(len(xrange)), 'Air Temperature': spl(xrange)}\n",
    "# test = pd.DataFrame(data = d)"
   ]
  },
  {
   "cell_type": "code",
   "execution_count": 50,
   "id": "ef69b67e-dd91-4a98-98bc-cbd77366600c",
   "metadata": {},
   "outputs": [],
   "source": [
    "# hour_list = np.arange(0, 24, 1)"
   ]
  },
  {
   "cell_type": "code",
   "execution_count": 51,
   "id": "02c9cd73-910f-44dc-9bf4-da1634971bce",
   "metadata": {},
   "outputs": [],
   "source": [
    "# K = 60\n",
    "  \n",
    "# # using list comprehension\n",
    "# # repeat elements K times\n",
    "# res =  [ele for ele in hour_list for i in range(K)]"
   ]
  },
  {
   "cell_type": "code",
   "execution_count": 52,
   "id": "b7d70dd0-057e-4988-a8bc-79e37de0bb5c",
   "metadata": {},
   "outputs": [],
   "source": [
    "# test['Hour'] = res"
   ]
  },
  {
   "cell_type": "code",
   "execution_count": 53,
   "id": "b7b09128-9536-43ab-a028-8fd6b302c55f",
   "metadata": {},
   "outputs": [],
   "source": [
    "# minute_cycle = cycle(np.arange(0, 60, 1))"
   ]
  },
  {
   "cell_type": "code",
   "execution_count": 54,
   "id": "529ed8d4-33ed-426c-a0ad-649e117c07af",
   "metadata": {},
   "outputs": [],
   "source": [
    "# test['Minute'] = [next(minute_cycle) for cycle in range(len(test))]"
   ]
  },
  {
   "cell_type": "code",
   "execution_count": 55,
   "id": "38e397d7-4ef1-4dd4-a5f9-8d19241b7586",
   "metadata": {},
   "outputs": [],
   "source": [
    "# year = date_of_interest['Year'].unique()\n",
    "# date = date_of_interest['date'].unique()\n",
    "# test['Year'] = year[0]\n",
    "# test['date'] = date[0]"
   ]
  },
  {
   "cell_type": "code",
   "execution_count": 56,
   "id": "15c62671-77c2-4996-8297-12b8f0834645",
   "metadata": {},
   "outputs": [],
   "source": [
    "# test['Hour'] = pd.to_timedelta(test['Hour'], unit = 'h')\n",
    "# test['Minute'] = pd.to_timedelta(test['Minute'], unit = 'm')\n",
    "\n",
    "# test['date'] = test['date'] + test['Hour'] + test['Minute']"
   ]
  },
  {
   "cell_type": "code",
   "execution_count": null,
   "id": "fdbef542-5e7f-4979-a536-f689129c042c",
   "metadata": {},
   "outputs": [],
   "source": []
  },
  {
   "cell_type": "code",
   "execution_count": null,
   "id": "e77e1686-c44a-4b05-adfc-133d8991a77d",
   "metadata": {},
   "outputs": [],
   "source": []
  },
  {
   "cell_type": "code",
   "execution_count": 57,
   "id": "2a66ab34-6b49-4603-938f-6b0e3a571d28",
   "metadata": {},
   "outputs": [],
   "source": [
    "# time = JSON_df['time'][21]\n",
    "# result_index = test['date'].sub(time).abs().idxmin()\n",
    "# test['Air Temperature'].iloc[result_index]"
   ]
  },
  {
   "cell_type": "code",
   "execution_count": 98,
   "id": "6ba0d9a5-36f5-41cd-92a9-3fd1ad132be1",
   "metadata": {},
   "outputs": [],
   "source": [
    "def splines(df, xvar, yvar): #xvar would be the information you want to use ex: df['Hour']\n",
    "    xdata = df[xvar]\n",
    "    ydata = df[yvar]\n",
    "    x, y = xdata.values, ydata.values\n",
    "    spl = UnivariateSpline(x, y)\n",
    "    \n",
    "    xrange = np.arange(0, 24, 0.01667)\n",
    "    \n",
    "    d = {'Minute': np.arange(len(xrange)), yvar: spl(xrange)}\n",
    "    finer_df = pd.DataFrame(data = d)\n",
    "    \n",
    "    hour_list = np.arange(0, 24, 1)\n",
    "    \n",
    "    K = 60\n",
    "    res =  [ele for ele in hour_list for i in range(K)]\n",
    "    \n",
    "    finer_df['Hour'] = res\n",
    "\n",
    "    minute_cycle = cycle(np.arange(0, 60, 1))\n",
    "    finer_df['Minute'] = [next(minute_cycle) for cycle in range(len(finer_df))]\n",
    "    \n",
    "    year = date_of_interest['Year'].unique()\n",
    "    date = date_of_interest['date'].unique()\n",
    "    finer_df['Year'] = year[0]\n",
    "    finer_df['date'] = date[0]\n",
    "    \n",
    "    finer_df['Hour'] = pd.to_timedelta(finer_df['Hour'], unit = 'h')\n",
    "    finer_df['Minute'] = pd.to_timedelta(finer_df['Minute'], unit = 'm')\n",
    "\n",
    "    finer_df['date'] = finer_df['date'] + finer_df['Hour'] + finer_df['Minute']\n",
    "    return finer_df"
   ]
  },
  {
   "cell_type": "code",
   "execution_count": 99,
   "id": "66cc0a91-62cf-4958-8110-7004267567c2",
   "metadata": {},
   "outputs": [],
   "source": [
    "def residual(AZmet, finer_df):\n",
    "    top_hour = finer_df.loc[finer_df['date'].dt.minute == 0].reset_index()\n",
    "    top_hour['Original_Temp'] = AZmet['Air Temperature']\n",
    "    top_hour['Hour'] = AZmet['Hour']\n",
    "    top_hour['residual'] = top_hour['Air Temperature'] - top_hour['Original_Temp']\n",
    "    return top_hour"
   ]
  },
  {
   "cell_type": "code",
   "execution_count": 100,
   "id": "596d1821-729e-4971-a125-62f3cf07e5dc",
   "metadata": {},
   "outputs": [],
   "source": [
    "def retrieve_splines(df):\n",
    "    temp_df = splines(df, 'Hour', 'Air Temperature')\n",
    "    temp_df['VPD'] = splines(df, 'Hour', 'VPD')['VPD']\n",
    "    temp_df['Relative Humidity'] = splines(df, 'Hour', 'Relative Humidity')['Relative Humidity']\n",
    "    temp_df['Avg Wind Speed'] = splines(df, 'Hour', 'Avg Wind Speed')['Avg Wind Speed']\n",
    "    return temp_df"
   ]
  },
  {
   "cell_type": "code",
   "execution_count": 101,
   "id": "320bbbb0-0ce1-4360-88b9-dedbee872961",
   "metadata": {},
   "outputs": [],
   "source": [
    "temp_df = splines(date_of_interest, 'Hour', 'Air Temperature')\n",
    "# vpd_df = splines(date_of_interest, 'Hour', 'VPD')\n",
    "# rh_df = splines(date_of_interest, 'Hour', 'Relative Humidity')\n",
    "# wind_df = splines(date_of_interest, 'Hour', 'Avg Wind Speed')\n",
    "#top_hour = residual(date_of_interest, finer_df)"
   ]
  },
  {
   "cell_type": "code",
   "execution_count": 61,
   "id": "684d011d-1ce9-4c03-93e8-245e49a45868",
   "metadata": {},
   "outputs": [],
   "source": [
    "# top_hour = real_test.loc[real_test['date'].dt.minute == 0]"
   ]
  },
  {
   "cell_type": "code",
   "execution_count": 62,
   "id": "372c6b39-8c87-4ba2-8487-7ff339bc6a0c",
   "metadata": {},
   "outputs": [],
   "source": [
    "# top_hour = top_hour.reset_index()"
   ]
  },
  {
   "cell_type": "code",
   "execution_count": 63,
   "id": "41942c0b-2dad-47d4-8f49-3edca8e89c10",
   "metadata": {},
   "outputs": [],
   "source": [
    "# top_hour['Original_Temp'] = date_of_interest['Air Temperature']\n",
    "# top_hour['Hour'] = date_of_interest['Hour']"
   ]
  },
  {
   "cell_type": "code",
   "execution_count": 64,
   "id": "b84247b2-0a10-4084-bbe7-ea29e44d8162",
   "metadata": {},
   "outputs": [],
   "source": [
    "# top_hour['residual'] = top_hour['Air Temperature'] - top_hour['Original_Temp']"
   ]
  },
  {
   "cell_type": "code",
   "execution_count": 65,
   "id": "2df06f5c-d8d5-4604-9cc6-56588eefa883",
   "metadata": {},
   "outputs": [],
   "source": [
    "# # Residual vs Hour Plot\n",
    "# sns.scatterplot(data = top_hour, x = 'Hour', y = 'residual')\n",
    "# plt.ylabel('$T_{azmet}$ - $T_{predicted}$ (°C)')\n",
    "# plt.title('Residuals vs Hour ' + date)\n",
    "# plt.ylim(-4.0, 4.0)\n",
    "# plt.axhline(y=0, color='r', linestyle='dotted');"
   ]
  },
  {
   "cell_type": "code",
   "execution_count": 66,
   "id": "43c2fae5-2b67-4e26-82da-5747b53e1fe2",
   "metadata": {},
   "outputs": [],
   "source": [
    "# # Predicted vs Actual Graph with r2 value\n",
    "# r, p = scipy.stats.pearsonr(top_hour['Original_Temp'], top_hour['Air Temperature'])\n",
    "\n",
    "# sns.regplot(data = top_hour, x = 'Original_Temp', y = 'Air Temperature')\n",
    "# plt.ylabel('Predicted Temperature (°C)')\n",
    "# plt.xlabel('Actual Temperature (°C)')\n",
    "# plt.text(22.5, 37, '$r^2$' '={:.2f}'.format(r**2), size = 16)\n",
    "# plt.title('Predicted vs Actual ' + date);"
   ]
  },
  {
   "cell_type": "code",
   "execution_count": 67,
   "id": "036c07d4-803e-4482-bfdd-9208c8c66d75",
   "metadata": {},
   "outputs": [],
   "source": [
    "temp_df['VPD'] = splines(date_of_interest, 'Hour', 'VPD')['VPD']\n",
    "temp_df['Relative Humidity'] = splines(date_of_interest, 'Hour', 'Relative Humidity')['Relative Humidity']\n",
    "temp_df['Avg Wind Speed'] = splines(date_of_interest, 'Hour', 'Avg Wind Speed')['Avg Wind Speed']"
   ]
  },
  {
   "cell_type": "code",
   "execution_count": 68,
   "id": "0d693897-11b4-4f02-b89e-e70c44034b3e",
   "metadata": {},
   "outputs": [],
   "source": [
    "temp_df['Hour'] = temp_df['date'].dt.hour\n",
    "temp_df['Minute'] = temp_df['date'].dt.minute"
   ]
  },
  {
   "cell_type": "code",
   "execution_count": 69,
   "id": "32eef870-e0b6-46e6-8a14-6c2bb1654481",
   "metadata": {},
   "outputs": [],
   "source": [
    "# For graphing purposes\n",
    "# temp_df['HourMin'] = temp_df['Hour'].astype(str) + '.' + temp_df['Minute'].astype(str)\n",
    "# temp_df['HourMin'] = pd.to_numeric(temp_df['HourMin'])"
   ]
  },
  {
   "cell_type": "code",
   "execution_count": 70,
   "id": "c7aefb4d-490d-4c15-a61c-9ab00532f19e",
   "metadata": {},
   "outputs": [],
   "source": [
    "# sns.scatterplot(data = temp_df, x = 'HourMin', y = 'Air Temperature', color = 'black')\n",
    "# sns.scatterplot(data = date_of_interest, x = 'Hour', y = 'Air Temperature', color = 'cornflowerblue');"
   ]
  },
  {
   "cell_type": "code",
   "execution_count": 71,
   "id": "70368385-b4b1-4baa-805f-aa64efa0fb9e",
   "metadata": {},
   "outputs": [],
   "source": [
    "# sns.lineplot(data = date_of_interest, x = 'Hour', y = 'Air Temperature', color = 'cornflowerblue', label = 'Air Temperature')\n",
    "# sns.lineplot(data = date_of_interest, x = 'Hour', y = 'Max Wind Speed', color = 'red', label = 'Max Wind Speed')\n",
    "# plt.title('Wind effect on Air Temperature');"
   ]
  },
  {
   "cell_type": "code",
   "execution_count": 72,
   "id": "1bdbcc85-b826-426c-b7a3-dc8e675238de",
   "metadata": {},
   "outputs": [],
   "source": [
    "temp_df['date'] = pd.to_datetime(temp_df['date'])"
   ]
  },
  {
   "cell_type": "code",
   "execution_count": 73,
   "id": "f04f427d-3656-4bb3-990e-6b695638f986",
   "metadata": {},
   "outputs": [],
   "source": [
    "time = JSON_df['time'][0]"
   ]
  },
  {
   "cell_type": "code",
   "execution_count": 74,
   "id": "c07aeacf-ea76-4773-92b6-157769bc0e7e",
   "metadata": {},
   "outputs": [],
   "source": [
    "timestamp = time.round('min')"
   ]
  },
  {
   "cell_type": "code",
   "execution_count": 75,
   "id": "ec211957-7cdf-4620-8605-989329e265ea",
   "metadata": {},
   "outputs": [],
   "source": [
    "result_index = temp_df[temp_df['date'] == timestamp].index.values[0]"
   ]
  },
  {
   "cell_type": "code",
   "execution_count": 76,
   "id": "037e3dc8-80be-4f94-8115-f166508c689a",
   "metadata": {},
   "outputs": [
    {
     "data": {
      "text/plain": [
       "13.661369748057407"
      ]
     },
     "execution_count": 76,
     "metadata": {},
     "output_type": "execute_result"
    }
   ],
   "source": [
    "temp_df[\"Air Temperature\"].iloc[result_index]"
   ]
  },
  {
   "cell_type": "markdown",
   "id": "dc19452a-f908-43f0-9363-21f9d8f643e3",
   "metadata": {},
   "source": [
    "## Environmental Logger"
   ]
  },
  {
   "cell_type": "code",
   "execution_count": 77,
   "id": "a7081013-2b09-43af-bb8f-5a481e24c1e2",
   "metadata": {},
   "outputs": [],
   "source": [
    "time = JSON_df[\"time\"][0]\n",
    "timestamp = time.round(\"min\")"
   ]
  },
  {
   "cell_type": "code",
   "execution_count": 78,
   "id": "a5fa6b71-2bd9-4d8d-b830-a06600345715",
   "metadata": {},
   "outputs": [],
   "source": [
    "EnvL_data = pd.read_csv('2020-02-16_clean.csv')\n",
    "EnvL_data[\"Time\"] = pd.to_datetime(EnvL_data[\"Time\"])\n",
    "Envlog_clean = EnvL_data[\n",
    "    [\n",
    "        \"Time\",\n",
    "        \"Sun Direction\",\n",
    "        \"Temperature\",\n",
    "        \"Photosynthetically active radiation\",\n",
    "        \"Wind velocity\",\n",
    "    ]\n",
    "]"
   ]
  },
  {
   "cell_type": "code",
   "execution_count": 79,
   "id": "d4980af4-2123-4c9d-9954-91811e6ea364",
   "metadata": {},
   "outputs": [],
   "source": [
    "EnvLog = Envlog_clean.set_index(\"Time\")\n",
    "EnvLog = Envlog_clean.reset_index()"
   ]
  },
  {
   "cell_type": "code",
   "execution_count": 80,
   "id": "eec21426-2fda-4033-8587-0cec5c244a4a",
   "metadata": {},
   "outputs": [],
   "source": [
    "result_index_env  = EnvLog[EnvLog[\"Time\"] == timestamp].index.values[0]"
   ]
  },
  {
   "cell_type": "code",
   "execution_count": 81,
   "id": "fc41390f-646c-47a1-ab00-acbe2d903a9a",
   "metadata": {},
   "outputs": [],
   "source": [
    "Env_temp = EnvLog[\"Temperature\"].iloc[result_index_env]"
   ]
  },
  {
   "cell_type": "code",
   "execution_count": 82,
   "id": "05b9eb45-ce87-4b72-8898-9fea00c64f5d",
   "metadata": {},
   "outputs": [
    {
     "data": {
      "text/plain": [
       "16.6820276498"
      ]
     },
     "execution_count": 82,
     "metadata": {},
     "output_type": "execute_result"
    }
   ],
   "source": [
    "Env_temp"
   ]
  },
  {
   "cell_type": "markdown",
   "id": "c02fa574-f611-4fb4-a395-e4d1309db9bc",
   "metadata": {},
   "source": [
    "## Dealing with Sorghum Season 11 Issues"
   ]
  },
  {
   "cell_type": "code",
   "execution_count": 36,
   "id": "5db8368f-3011-4196-8595-7e201a542643",
   "metadata": {},
   "outputs": [],
   "source": [
    "import pandas as pd"
   ]
  },
  {
   "cell_type": "code",
   "execution_count": 37,
   "id": "2cb32a9d-4833-4edb-8303-6063d6174501",
   "metadata": {},
   "outputs": [],
   "source": [
    "result = pd.read_csv('result.csv')\n",
    "plant_detections = pd.read_csv('2020-09-11__23-00-48-992-individual_thermal.csv')"
   ]
  },
  {
   "cell_type": "code",
   "execution_count": 38,
   "id": "c5110a15-a50b-46db-960a-a28abdbbc869",
   "metadata": {},
   "outputs": [],
   "source": [
    "result = result.set_index('plot')"
   ]
  },
  {
   "cell_type": "code",
   "execution_count": 39,
   "id": "d9ce0553-f073-456d-9ed3-8af13bb96305",
   "metadata": {},
   "outputs": [],
   "source": [
    "plant_detections[\"norm_temp\"] = plant_detections[\"atm_temp\"] = None"
   ]
  },
  {
   "cell_type": "code",
   "execution_count": 40,
   "id": "e86708e0-72dc-465d-b8fc-4371d6e14aa6",
   "metadata": {},
   "outputs": [],
   "source": [
    "for i, row in plant_detections.iterrows():\n",
    "\n",
    "        try:\n",
    "            plot = row[\"plot\"]\n",
    "            plant_temp = row[\"median\"]\n",
    "\n",
    "            temp_df = result.loc[plot]\n",
    "            atm_temp = temp_df[\"median\"]\n",
    "            norm_temp = atm_temp - plant_temp\n",
    "\n",
    "            azmet_wind_vel = temp_df[\"azmet_wind_velocity\"]\n",
    "            azmet_vpd = temp_df[\"azmet_VPD\"]\n",
    "            sol_rad = temp_df[\"azmet_solar_radiation\"]\n",
    "            rel_hum = temp_df[\"relative_humidity\"]\n",
    "        \n",
    "            plant_detections.at[i, \"norm_temp\"] = norm_temp\n",
    "            plant_detections.at[i, \"atm_temp\"] = atm_temp\n",
    "\n",
    "            plant_detections.at[i, \"azmet_wind_velocity\"] = azmet_wind_vel\n",
    "            plant_detections.at[i, \"azmet_VPD\"] = azmet_vpd\n",
    "            plant_detections.at[i, \"azmet_solar_radiation\"] = sol_rad\n",
    "            plant_detections.at[i, \"relative_humidity\"] = rel_hum\n",
    "        except:\n",
    "            pass"
   ]
  },
  {
   "cell_type": "code",
   "execution_count": null,
   "id": "179c585a-a4f0-420c-af6e-b2c9c8116c71",
   "metadata": {},
   "outputs": [],
   "source": []
  }
 ],
 "metadata": {
  "kernelspec": {
   "display_name": "Python 3 (ipykernel)",
   "language": "python",
   "name": "python3"
  },
  "language_info": {
   "codemirror_mode": {
    "name": "ipython",
    "version": 3
   },
   "file_extension": ".py",
   "mimetype": "text/x-python",
   "name": "python",
   "nbconvert_exporter": "python",
   "pygments_lexer": "ipython3",
   "version": "3.8.3"
  }
 },
 "nbformat": 4,
 "nbformat_minor": 5
}
