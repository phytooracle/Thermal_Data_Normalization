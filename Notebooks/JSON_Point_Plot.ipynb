{
 "cells": [
  {
   "cell_type": "code",
   "execution_count": 1,
   "metadata": {},
   "outputs": [],
   "source": [
    "from osgeo import gdal, osr\n",
    "from osgeo import osr\n",
    "import geopandas as gpd\n",
    "from osgeo import ogr\n",
    "from shapely.geometry import Polygon, Point\n",
    "from geopandas.geoseries import *\n",
    "import re"
   ]
  },
  {
   "cell_type": "code",
   "execution_count": 2,
   "metadata": {},
   "outputs": [],
   "source": [
    "import tarfile\n",
    "import pandas as pd\n",
    "import datetime as dt\n",
    "import os\n",
    "import glob\n",
    "import subprocess\n",
    "import os.path\n",
    "from os import path\n",
    "import json\n",
    "from pathlib import Path\n",
    "import matplotlib.pyplot as plt\n",
    "import numpy as np\n",
    "from terrautils.spatial import scanalyzer_to_latlon"
   ]
  },
  {
   "cell_type": "code",
   "execution_count": 3,
   "metadata": {},
   "outputs": [],
   "source": [
    "# Grabs the thermal raw data tar file for the Gantry's metadata for the images taken at the specified date\n",
    "class JSON:\n",
    "    def get_tar(season, date):\n",
    "        command = f'iget -rKTPf -N 0 /iplant/home/shared/terraref/ua-mac/raw_tars/{season}/flirIrCamera/flirIrCamera-{date}.tar'\n",
    "        subprocess.call(command, shell = True)\n",
    "        command = f'tar -xvf flirIrCamera-{date}.tar'\n",
    "        subprocess.call(command, shell = True)\n",
    "\n",
    "# Finds the individual json files and adds them to the filepath (end up with a list of paths for each individual json file)\n",
    "    def pathlist(season, date):\n",
    "        json_data = JSON.get_tar(season, date)\n",
    "        pathlist = Path(f\"./flirIrCamera/{date}/\").glob('**/*.json')\n",
    "        JSON_path_list = []\n",
    "        for path in pathlist:\n",
    "            path_str = str(path)\n",
    "            JSON_path_list.append(path_str)\n",
    "        return JSON_path_list\n",
    "\n",
    "# Uses the pathlists and searches each one\n",
    "# Gathers the time, image name, gantry_x and gantry_y information from the metadata of each individual image and adds to dictionary\n",
    "    def time_dict(season, date):\n",
    "        file_path_list = JSON.pathlist(season, date)\n",
    "        JSON_dict = dict()\n",
    "        for file in file_path_list:\n",
    "            path_metadata = glob.glob(f'{file}')\n",
    "            metadata = str(path_metadata)[2:-2]\n",
    "            with open(metadata) as f:\n",
    "                meta = json.load(f)['lemnatec_measurement_metadata']\n",
    "                time = (meta['gantry_system_variable_metadata']['time'])\n",
    "                gantry_x = float(meta['gantry_system_variable_metadata']['position x [m]'])\n",
    "                gantry_y = float(meta['gantry_system_variable_metadata']['position y [m]'])\n",
    "                filename = os.path.basename(metadata)\n",
    "            if JSON is not JSON_dict:\n",
    "                JSON_dict[time, filename, gantry_x, gantry_y] = \"Date, Time, Gantry_x, Gantry_y\"\n",
    "            else:\n",
    "                print(\"JSON already in Dictionary\")\n",
    "        return sorted(JSON_dict)\n",
    "\n",
    "# Searches through the dictionary created and creates a dataframe of the information in the dictionary\n",
    "    def time_df(season, date):\n",
    "        JSON_time_d = JSON.time_dict(season, date)\n",
    "        JSON_time_df = pd.DataFrame.from_dict(JSON_time_d)\n",
    "        JSON_time_df.columns = ['Date and Time', 'Image Name', 'Gantry_x', 'Gantry_y']\n",
    "        return JSON_time_df\n",
    "\n",
    "# Converts the gantry coordinates into GPS coordinates (using 'terrautils')\n",
    "    def GPS_coord (season, date):\n",
    "        data = JSON.time_df(season, date)\n",
    "        gantry_x_pos = data['Gantry_x']\n",
    "        gantry_y_pos = data['Gantry_y']\n",
    "        GPS_latlon = scanalyzer_to_latlon(gantry_x_pos, gantry_y_pos)\n",
    "        GPS_df = pd.DataFrame(GPS_latlon)\n",
    "        GPS_latlon_df = GPS_df.transpose()\n",
    "        GPS_latlon_df.columns = ['GPS_lat', 'GPS_lon']\n",
    "        data['GPS_lat'] = GPS_latlon_df['GPS_lat']\n",
    "        data['GPS_lon'] = GPS_latlon_df['GPS_lon']\n",
    "        return data"
   ]
  },
  {
   "cell_type": "code",
   "execution_count": 4,
   "metadata": {},
   "outputs": [],
   "source": [
    "image_gps = JSON.GPS_coord('season_10_yr_2020', '2020-03-03')"
   ]
  },
  {
   "cell_type": "code",
   "execution_count": 5,
   "metadata": {},
   "outputs": [],
   "source": [
    "lat,lon = image_gps.loc[1]['GPS_lat'], image_gps.loc[1]['GPS_lon']"
   ]
  },
  {
   "cell_type": "code",
   "execution_count": 6,
   "metadata": {},
   "outputs": [],
   "source": [
    "shp = gpd.read_file('/Users/sebastiancalleja/Desktop/season10_multi_latlon_geno.geojson')"
   ]
  },
  {
   "cell_type": "code",
   "execution_count": 7,
   "metadata": {},
   "outputs": [],
   "source": [
    "point_list = []\n",
    "poly_list = []\n",
    "\n",
    "class Get_plot:\n",
    "    def to_point (point_data, geom_data):\n",
    "        for i, row in point_data.iterrows():\n",
    "            lat = point_data['GPS_lat'].loc[i]\n",
    "            lon = point_data['GPS_lon'].loc[i]\n",
    "            points = Point(lon,lat)\n",
    "            point_list.append(points)\n",
    "            point_list_df = gpd.GeoDataFrame(point_list)\n",
    "        return point_list_df"
   ]
  },
  {
   "cell_type": "code",
   "execution_count": 8,
   "metadata": {},
   "outputs": [],
   "source": [
    "image_gps['Points'] = Get_plot.to_point(image_gps, shp)"
   ]
  },
  {
   "cell_type": "code",
   "execution_count": 9,
   "metadata": {},
   "outputs": [],
   "source": [
    "#GPS_points.set_index(0)\n",
    "#GPS_points.rename(columns={0: 'Points'}, inplace=True)"
   ]
  },
  {
   "cell_type": "code",
   "execution_count": 10,
   "metadata": {},
   "outputs": [],
   "source": [
    "#data_all = gpd.GeoDataFrame(shp['geometry'])"
   ]
  },
  {
   "cell_type": "code",
   "execution_count": 11,
   "metadata": {},
   "outputs": [],
   "source": [
    "#GPS_points.at[i,\"plot\"]"
   ]
  },
  {
   "cell_type": "code",
   "execution_count": 12,
   "metadata": {},
   "outputs": [],
   "source": [
    "def intersection(point):\n",
    "    within = point.within\n",
    "    plot = None\n",
    "    intersection_list = []\n",
    "    for i, row in shp.iterrows():\n",
    "        polygon = row['geometry']\n",
    "        intersection = within(polygon)\n",
    "        if intersection == True:\n",
    "            plot = [row['ID']]\n",
    "            intersection_list.append(plot)\n",
    "    return intersection_list"
   ]
  },
  {
   "cell_type": "code",
   "execution_count": 13,
   "metadata": {},
   "outputs": [],
   "source": [
    "image_gps[\"plot\"] = None\n",
    "for i, row in image_gps.iterrows():\n",
    "    point = row['Points']\n",
    "    plot = intersection(point)\n",
    "    image_gps.at[i,'plot'] = plot"
   ]
  },
  {
   "cell_type": "code",
   "execution_count": 14,
   "metadata": {},
   "outputs": [],
   "source": [
    "# Find points that had no intersecrtion with plots\n",
    "# We want to create a polygon out of the image and see which plots they intersect (rather than use the center point)\n",
    "no_intersection = image_gps.loc[(image_gps['plot'].str.len() == 0),:]"
   ]
  },
  {
   "cell_type": "code",
   "execution_count": 15,
   "metadata": {},
   "outputs": [],
   "source": [
    "# finds the numberof plots each image got associated with\n",
    "plot_total_list = []\n",
    "for i, row in image_gps.iterrows():\n",
    "    total_plots = len(image_gps['plot'].loc[i])\n",
    "    plot_total_list.append(total_plots)"
   ]
  },
  {
   "cell_type": "code",
   "execution_count": 17,
   "metadata": {},
   "outputs": [],
   "source": [
    "# adds the total plot number to the main df\n",
    "total_plot_df = pd.DataFrame(plot_total_list)\n",
    "total_plot_df.rename(columns={0: 'total_plots'}, inplace=True)\n",
    "image_gps['total_plots'] = total_plot_df"
   ]
  },
  {
   "cell_type": "code",
   "execution_count": 18,
   "metadata": {},
   "outputs": [
    {
     "data": {
      "text/plain": [
       "1    7285\n",
       "0    1718\n",
       "2     267\n",
       "Name: total_plots, dtype: int64"
      ]
     },
     "execution_count": 18,
     "metadata": {},
     "output_type": "execute_result"
    }
   ],
   "source": [
    "image_gps['total_plots'].value_counts()"
   ]
  },
  {
   "cell_type": "code",
   "execution_count": null,
   "metadata": {},
   "outputs": [],
   "source": []
  }
 ],
 "metadata": {
  "kernelspec": {
   "display_name": "Python 3",
   "language": "python",
   "name": "python3"
  },
  "language_info": {
   "codemirror_mode": {
    "name": "ipython",
    "version": 3
   },
   "file_extension": ".py",
   "mimetype": "text/x-python",
   "name": "python",
   "nbconvert_exporter": "python",
   "pygments_lexer": "ipython3",
   "version": "3.8.3"
  }
 },
 "nbformat": 4,
 "nbformat_minor": 4
}
