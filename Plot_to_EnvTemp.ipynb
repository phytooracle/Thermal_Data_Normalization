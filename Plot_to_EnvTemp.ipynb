{
 "cells": [
  {
   "cell_type": "code",
   "execution_count": 67,
   "metadata": {},
   "outputs": [],
   "source": [
    "import pandas as pd\n",
    "import subprocess\n",
    "import datetime as dt"
   ]
  },
  {
   "cell_type": "code",
   "execution_count": 68,
   "metadata": {},
   "outputs": [],
   "source": [
    "image_file = pd.read_csv('new_image_bbox.csv')"
   ]
  },
  {
   "cell_type": "code",
   "execution_count": 69,
   "metadata": {},
   "outputs": [],
   "source": [
    "## Retrieve tar files from the cyverse data store for specified season and day ex: ('season_10_yr_2020', '2020-03-03')\n",
    "class Thermal:\n",
    "    def get_tar(season, date):\n",
    "        command = f'iget -rKTPf -N 0 /iplant/home/shared/terraref/ua-mac/level_1/{season}/EnvironmentLogger/{date}_clean.tar.gz'\n",
    "        subprocess.call(command, shell = True)\n",
    "        command = f'tar -xvf {date}_clean.tar.gz'\n",
    "        subprocess.call(command, shell = True)\n",
    "\n",
    "## Retrieve csv data and organize/clean up\n",
    "    def retrieve_data(season, date):\n",
    "        tar_data = Thermal.get_tar(season, date)\n",
    "        data = pd.read_csv(f'./{date}_clean.csv')\n",
    "        data['Time'] = pd.to_datetime(data['Time'])\n",
    "        #data['date'] = data.Time.dt.date\n",
    "        #data['time'] = data.Time.dt.time\n",
    "        data_clean = data[['Time', 'Sun Direction', 'Temperature', \n",
    "                                      'Photosynthetically active radiation', 'Wind velocity']]\n",
    "        #index_data = data_clean.set_index('time')\n",
    "        return data_clean"
   ]
  },
  {
   "cell_type": "code",
   "execution_count": 70,
   "metadata": {},
   "outputs": [],
   "source": [
    "## Searches an already downloaded file of the year's AZmet data\n",
    "## Has the capability of retrieving weather data for the specific date and hour\n",
    "\n",
    "## Labels the columns with their appropriate header\n",
    "class AZmet:\n",
    "    def __init__ (self, filename):\n",
    "        file = pd.read_csv(filename, names = [\"Year\", \"Day\", \"Hour\", \n",
    "                                            \"Air Temperature\", \"Relative Humidity\", \n",
    "                                            \"VPD\", \"Solar Radiation\", \"Precipitation\", \n",
    "                                            \"4 inch Soil T\", \"12 inch Soil T\", \n",
    "                                            \"Avg Wind Speed\", \"Wind Vector Magnitude\", \n",
    "                                            \"Wind Vector Direction\", \"Wind Direction STDEV\", \n",
    "                                            \"Max Wind Speed\", \"Reference Evapotranspiration\", \n",
    "                                            \"Actual Vapor Pressure\", \"Dewpoint\"])\n",
    "        file_df = pd.DataFrame(file)\n",
    "        file_df['combined'] = file_df[\"Year\"]*1000 + file_df[\"Day\"]\n",
    "        file_df[\"date\"] = pd.to_datetime(file_df[\"combined\"], format = \"%Y%j\")\n",
    "        data = file_df.set_index('date')\n",
    "        del data['combined']\n",
    "        self.__data__ = data\n",
    "\n",
    "## Selects the data for the specific Date\n",
    "    def specific_time(self, date, hour):\n",
    "        data = self.__data__\n",
    "        specific_time = data[data.index == date]\n",
    "        return specific_time\n",
    "\n",
    "## Selects the data for the specific hour\n",
    "    def specific_hour(self, date, hour):\n",
    "        date_data = AZmet.specific_time(self, date, hour)\n",
    "        hour = date_data[date_data[\"Hour\"] == hour]\n",
    "        return hour\n",
    "\n",
    "## Insert AZmet file for that year here\n",
    "filename = AZmet('/Users/sebastiancalleja/Desktop/AZmet_Data/2020_azmet_data.txt')"
   ]
  },
  {
   "cell_type": "code",
   "execution_count": 71,
   "metadata": {},
   "outputs": [],
   "source": [
    "## Environmental logger data for specified date\n",
    "EL = Thermal.retrieve_data('season_10_yr_2020', '2020-03-03')"
   ]
  },
  {
   "cell_type": "code",
   "execution_count": 72,
   "metadata": {},
   "outputs": [],
   "source": [
    "## azmet data for specified date\n",
    "AZmet = pd.read_csv('/Users/sebastiancalleja/Desktop/AZmet_Data/azmet_2020_03-03.csv')"
   ]
  },
  {
   "cell_type": "code",
   "execution_count": 73,
   "metadata": {},
   "outputs": [],
   "source": [
    "## Converts azmet date to datetime\n",
    "AZmet['date'] = pd.to_datetime(AZmet['date'])"
   ]
  },
  {
   "cell_type": "code",
   "execution_count": 74,
   "metadata": {},
   "outputs": [],
   "source": [
    "image_file['Date and Time'] = pd.to_datetime(image_file['Date and Time'])"
   ]
  },
  {
   "cell_type": "code",
   "execution_count": 75,
   "metadata": {},
   "outputs": [],
   "source": [
    "## Gathers environmental logger data for each plot based on 'nearest' HH:MM time\n",
    "Env_temp = []\n",
    "def env_temp(image_file):\n",
    "    for i, row in image_file.iterrows():\n",
    "        time = row['Date and Time']\n",
    "        result_index = EL['Time'].sub(time).abs().idxmin()\n",
    "        EL_result = EL['Temperature'].iloc[result_index]\n",
    "        Env_temp.append(EL_result)\n",
    "    return (Env_temp)"
   ]
  },
  {
   "cell_type": "code",
   "execution_count": 76,
   "metadata": {},
   "outputs": [],
   "source": [
    "Env_wind = []\n",
    "def env_wind(image_file):\n",
    "    for i, row in image_file.iterrows():\n",
    "        time = row['Date and Time']\n",
    "        result_index = EL['Time'].sub(time).abs().idxmin()\n",
    "        EL_result = EL['Wind velocity'].iloc[result_index]\n",
    "        Env_wind.append(EL_result)\n",
    "    return (Env_wind)"
   ]
  },
  {
   "cell_type": "code",
   "execution_count": 77,
   "metadata": {},
   "outputs": [],
   "source": [
    "image_file['Env Temperature'] = env_temp(image_file)"
   ]
  },
  {
   "cell_type": "code",
   "execution_count": 78,
   "metadata": {},
   "outputs": [],
   "source": [
    "image_file['Env Wind Velocity'] = env_wind(image_file)"
   ]
  },
  {
   "cell_type": "code",
   "execution_count": 79,
   "metadata": {},
   "outputs": [],
   "source": [
    "## Gathers azmet data for each plot based on 'nearest' HH: time\n",
    "AZmet_temp = []\n",
    "def azmet_temp(image_file):\n",
    "    for i, row in image_file.iterrows():\n",
    "        time = row['Date and Time']\n",
    "        result_index = AZmet['date'].sub(time).abs().idxmin()\n",
    "        AZmet_result = AZmet['Air Temperature'].iloc[result_index]\n",
    "        AZmet_temp.append(AZmet_result)\n",
    "    return (AZmet_temp)"
   ]
  },
  {
   "cell_type": "code",
   "execution_count": 80,
   "metadata": {},
   "outputs": [],
   "source": [
    "AZmet_wind = []\n",
    "def azmet_wind(image_file):\n",
    "    for i, row in image_file.iterrows():\n",
    "        time = row['Date and Time']\n",
    "        result_index = AZmet['date'].sub(time).abs().idxmin()\n",
    "        AZmet_result = AZmet['Avg Wind Speed'].iloc[result_index]\n",
    "        AZmet_wind.append(AZmet_result)\n",
    "    return (AZmet_wind)"
   ]
  },
  {
   "cell_type": "code",
   "execution_count": 29,
   "metadata": {},
   "outputs": [],
   "source": [
    "#AZmet_dict = dict()\n",
    "#def azmet_dict(image_file):\n",
    "    #for i, row in image_file.iterrows():\n",
    "        #time = row['Date and Time']\n",
    "        #result_index = AZmet['date'].sub(time).abs().idxmin()\n",
    "        #AZmet_temp = AZmet['Air Temperature'].iloc[result_index]\n",
    "        #AZmet_wind = AZmet['Avg Wind Speed'].iloc[result_index]\n",
    "        #AZmet_vpd = AZmet['VPD'].iloc[result_index]\n",
    "        #AZmet_solar = AZmet['Solar Radiation'].iloc[result_index]\n",
    "        #AZmet_precipitation = AZmet['Precipitation'].iloc[result_index]\n",
    "        #AZmet_dict[AZmet_temp, AZmet_wind, AZmet_vpd, AZmet_solar, AZmet_precipitation] = \"Atm Temp, Avg Wind Speed, VPD, Solar Radiation, Precipitation\"\n",
    "    #return (AZmet_dict)"
   ]
  },
  {
   "cell_type": "code",
   "execution_count": 81,
   "metadata": {},
   "outputs": [],
   "source": [
    "image_file['azmet temp'] = azmet_temp(image_file)"
   ]
  },
  {
   "cell_type": "code",
   "execution_count": 82,
   "metadata": {},
   "outputs": [],
   "source": [
    "image_file['azmet wind speed'] = azmet_wind(image_file)"
   ]
  },
  {
   "cell_type": "code",
   "execution_count": 83,
   "metadata": {},
   "outputs": [],
   "source": [
    "#image_file_i.loc[image_file_i.index.unique()[image_file_i.index.unique().get_loc(time1, method='nearest')]]"
   ]
  },
  {
   "cell_type": "code",
   "execution_count": 84,
   "metadata": {},
   "outputs": [],
   "source": [
    "#mean = image_file.groupby('Image Name').mean()"
   ]
  },
  {
   "cell_type": "code",
   "execution_count": 85,
   "metadata": {},
   "outputs": [],
   "source": [
    "#image_file.to_csv('2020-03-03_all_atm_temp.csv')"
   ]
  },
  {
   "cell_type": "code",
   "execution_count": 86,
   "metadata": {},
   "outputs": [],
   "source": [
    "## Groups file by Image Name and finds the mean\n",
    "image_file_mean = image_file.groupby('Image Name').mean()"
   ]
  },
  {
   "cell_type": "code",
   "execution_count": 87,
   "metadata": {},
   "outputs": [],
   "source": [
    "del image_file_mean['Unnamed: 0']"
   ]
  },
  {
   "cell_type": "code",
   "execution_count": 88,
   "metadata": {},
   "outputs": [],
   "source": [
    "## Sorts values by Image Name\n",
    "sorted_mean = image_file_mean.sort_values('Image Name')"
   ]
  },
  {
   "cell_type": "code",
   "execution_count": 89,
   "metadata": {},
   "outputs": [],
   "source": [
    "sorted_mean = sorted_mean.reset_index()"
   ]
  },
  {
   "cell_type": "code",
   "execution_count": 90,
   "metadata": {},
   "outputs": [],
   "source": [
    "sorted_image_file = image_file.sort_values('Image Name')"
   ]
  },
  {
   "cell_type": "code",
   "execution_count": 91,
   "metadata": {},
   "outputs": [],
   "source": [
    "del sorted_image_file['Unnamed: 0']"
   ]
  },
  {
   "cell_type": "code",
   "execution_count": 92,
   "metadata": {},
   "outputs": [],
   "source": [
    "sorted_image_file['Avg EL'] = sorted_mean['Env Temperature']"
   ]
  },
  {
   "cell_type": "code",
   "execution_count": 93,
   "metadata": {},
   "outputs": [],
   "source": [
    "sorted_image_file['Avg AZmet'] = sorted_mean['azmet temp']"
   ]
  },
  {
   "cell_type": "code",
   "execution_count": 94,
   "metadata": {},
   "outputs": [],
   "source": [
    "full_image_file = sorted_image_file.sort_values('Date and Time')"
   ]
  },
  {
   "cell_type": "code",
   "execution_count": 95,
   "metadata": {},
   "outputs": [],
   "source": [
    "#del full_image_file['Unnamed: 0']"
   ]
  },
  {
   "cell_type": "code",
   "execution_count": 96,
   "metadata": {},
   "outputs": [],
   "source": [
    "full_image_file.to_csv('2020-03-03_all_atm_temp.csv')"
   ]
  },
  {
   "cell_type": "code",
   "execution_count": null,
   "metadata": {},
   "outputs": [],
   "source": []
  }
 ],
 "metadata": {
  "kernelspec": {
   "display_name": "Python 3",
   "language": "python",
   "name": "python3"
  },
  "language_info": {
   "codemirror_mode": {
    "name": "ipython",
    "version": 3
   },
   "file_extension": ".py",
   "mimetype": "text/x-python",
   "name": "python",
   "nbconvert_exporter": "python",
   "pygments_lexer": "ipython3",
   "version": "3.8.3"
  }
 },
 "nbformat": 4,
 "nbformat_minor": 4
}
