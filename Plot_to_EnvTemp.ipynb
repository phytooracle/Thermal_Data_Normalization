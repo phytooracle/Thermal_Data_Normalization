{
 "cells": [
  {
   "cell_type": "code",
   "execution_count": 1,
   "metadata": {},
   "outputs": [],
   "source": [
    "import pandas as pd\n",
    "import subprocess\n",
    "import datetime as dt"
   ]
  },
  {
   "cell_type": "code",
   "execution_count": 2,
   "metadata": {},
   "outputs": [],
   "source": [
    "image_file = pd.read_csv('new_image_bbox.csv')"
   ]
  },
  {
   "cell_type": "code",
   "execution_count": 3,
   "metadata": {},
   "outputs": [],
   "source": [
    "## Retrieve tar files from the cyverse data store for specified season and day ex: ('season_10_yr_2020', '2020-03-03')\n",
    "class Thermal:\n",
    "    def get_tar(season, date):\n",
    "        command = f'iget -rKTPf -N 0 /iplant/home/shared/terraref/ua-mac/level_1/{season}/EnvironmentLogger/{date}_clean.tar.gz'\n",
    "        subprocess.call(command, shell = True)\n",
    "        command = f'tar -xvf {date}_clean.tar.gz'\n",
    "        subprocess.call(command, shell = True)\n",
    "\n",
    "## Retrieve csv data and organize/clean up\n",
    "    def retrieve_data(season, date):\n",
    "        tar_data = Thermal.get_tar(season, date)\n",
    "        data = pd.read_csv(f'./{date}_clean.csv')\n",
    "        data['Time'] = pd.to_datetime(data['Time'])\n",
    "        #data['date'] = data.Time.dt.date\n",
    "        #data['time'] = data.Time.dt.time\n",
    "        data_clean = data[['Time', 'Sun Direction', 'Temperature', \n",
    "                                      'Photosynthetically active radiation', 'Wind velocity']]\n",
    "        #index_data = data_clean.set_index('time')\n",
    "        return data_clean"
   ]
  },
  {
   "cell_type": "code",
   "execution_count": 4,
   "metadata": {},
   "outputs": [],
   "source": [
    "## Searches an already downloaded file of the year's AZmet data\n",
    "## Has the capability of retrieving weather data for the specific date and hour\n",
    "\n",
    "## Labels the columns with their appropriate header\n",
    "class AZmet:\n",
    "    def __init__ (self, filename):\n",
    "        file = pd.read_csv(filename, names = [\"Year\", \"Day\", \"Hour\", \n",
    "                                            \"Air Temperature\", \"Relative Humidity\", \n",
    "                                            \"VPD\", \"Solar Radiation\", \"Precipitation\", \n",
    "                                            \"4 inch Soil T\", \"12 inch Soil T\", \n",
    "                                            \"Avg Wind Speed\", \"Wind Vector Magnitude\", \n",
    "                                            \"Wind Vector Direction\", \"Wind Direction STDEV\", \n",
    "                                            \"Max Wind Speed\", \"Reference Evapotranspiration\", \n",
    "                                            \"Actual Vapor Pressure\", \"Dewpoint\"])\n",
    "        file_df = pd.DataFrame(file)\n",
    "        file_df['combined'] = file_df[\"Year\"]*1000 + file_df[\"Day\"]\n",
    "        file_df[\"date\"] = pd.to_datetime(file_df[\"combined\"], format = \"%Y%j\")\n",
    "        data = file_df.set_index('date')\n",
    "        del data['combined']\n",
    "        self.__data__ = data\n",
    "\n",
    "## Selects the data for the specific Date\n",
    "    def specific_time(self, date, hour):\n",
    "        data = self.__data__\n",
    "        specific_time = data[data.index == date]\n",
    "        return specific_time\n",
    "\n",
    "## Selects the data for the specific hour\n",
    "    def specific_hour(self, date, hour):\n",
    "        date_data = AZmet.specific_time(self, date, hour)\n",
    "        hour = date_data[date_data[\"Hour\"] == hour]\n",
    "        return hour\n",
    "\n",
    "## Insert AZmet file for that year here\n",
    "filename = AZmet('/Users/sebastiancalleja/Desktop/AZmet_Data/2020_azmet_data.txt')"
   ]
  },
  {
   "cell_type": "code",
   "execution_count": 5,
   "metadata": {},
   "outputs": [],
   "source": [
    "## Environmental logger data for specified date\n",
    "EL = Thermal.retrieve_data('season_10_yr_2020', '2020-03-03')"
   ]
  },
  {
   "cell_type": "code",
   "execution_count": 6,
   "metadata": {},
   "outputs": [],
   "source": [
    "## azmet data for specified date\n",
    "AZmet = pd.read_csv('/Users/sebastiancalleja/Desktop/AZmet_Data/azmet_2020_03-03.csv')"
   ]
  },
  {
   "cell_type": "code",
   "execution_count": 7,
   "metadata": {},
   "outputs": [],
   "source": [
    "## Converts azmet date to datetime\n",
    "AZmet['date'] = pd.to_datetime(AZmet['date'])"
   ]
  },
  {
   "cell_type": "code",
   "execution_count": 8,
   "metadata": {},
   "outputs": [],
   "source": [
    "image_file['Date and Time'] = pd.to_datetime(image_file['Date and Time'])"
   ]
  },
  {
   "cell_type": "code",
   "execution_count": 9,
   "metadata": {},
   "outputs": [],
   "source": [
    "## Gathers environmental logger temp data for each plot based on 'nearest' HH:MM time\n",
    "Env_temp = []\n",
    "def env_temp(image_file):\n",
    "    for i, row in image_file.iterrows():\n",
    "        time = row['Date and Time']\n",
    "        result_index = EL['Time'].sub(time).abs().idxmin()\n",
    "        EL_result = EL['Temperature'].iloc[result_index]\n",
    "        Env_temp.append(EL_result)\n",
    "    return (Env_temp)"
   ]
  },
  {
   "cell_type": "code",
   "execution_count": 10,
   "metadata": {},
   "outputs": [],
   "source": [
    "## Gathers environmental logger wind data for each plot based on 'nearest' HH:MM time\n",
    "Env_wind = []\n",
    "def env_wind(image_file):\n",
    "    for i, row in image_file.iterrows():\n",
    "        time = row['Date and Time']\n",
    "        result_index = EL['Time'].sub(time).abs().idxmin()\n",
    "        EL_result = EL['Wind velocity'].iloc[result_index]\n",
    "        Env_wind.append(EL_result)\n",
    "    return (Env_wind)"
   ]
  },
  {
   "cell_type": "code",
   "execution_count": 11,
   "metadata": {},
   "outputs": [],
   "source": [
    "image_file['Env Temperature'] = env_temp(image_file)"
   ]
  },
  {
   "cell_type": "code",
   "execution_count": 12,
   "metadata": {},
   "outputs": [],
   "source": [
    "image_file['Env Wind Velocity'] = env_wind(image_file)"
   ]
  },
  {
   "cell_type": "code",
   "execution_count": 9,
   "metadata": {},
   "outputs": [],
   "source": [
    "## Creates a dictionary of all of the AZmet data of interest\n",
    "AZmet_dict = {}\n",
    "def azmet_dict(image_file):\n",
    "    cnt = 0\n",
    "    for i, row in image_file.iterrows():\n",
    "        #global cnt\n",
    "        cnt += 1\n",
    "        time = row['Date and Time']\n",
    "        result_index = AZmet['date'].sub(time).abs().idxmin()\n",
    "        AZmet_temp = AZmet['Air Temperature'].iloc[result_index]\n",
    "        AZmet_wind = AZmet['Avg Wind Speed'].iloc[result_index]\n",
    "        AZmet_vpd = AZmet['VPD'].iloc[result_index]\n",
    "        AZmet_solar = AZmet['Solar Radiation'].iloc[result_index]\n",
    "        AZmet_rh = AZmet['Relative Humidity'].iloc[result_index]\n",
    "        Env_temp = EL['Temperature'].iloc[result_index]\n",
    "        Env_wind = EL['Wind velocity'].iloc[result_index]\n",
    "        AZmet_dict[cnt] = {'azmet_atm_temp': AZmet_temp, 'azmet_wind_velocity': AZmet_wind, 'azmet_VPD': AZmet_vpd, 'azmet_solar_radiation':\n",
    "                          AZmet_solar, 'relative_humidity': AZmet_rh, 'env_temp': Env_temp, 'env_wind': Env_wind}\n",
    "    return pd.DataFrame.from_dict(AZmet_dict)"
   ]
  },
  {
   "cell_type": "code",
   "execution_count": 10,
   "metadata": {},
   "outputs": [],
   "source": [
    "environmental_df = azmet_dict(image_file)"
   ]
  },
  {
   "cell_type": "code",
   "execution_count": 11,
   "metadata": {},
   "outputs": [],
   "source": [
    "environmental_df = environmental_df.transpose()"
   ]
  },
  {
   "cell_type": "code",
   "execution_count": 13,
   "metadata": {},
   "outputs": [],
   "source": [
    "## Adds the AZmet data from the dictionary above to the master csv\n",
    "image_file['azmet_atm_temp'] = environmental_df['azmet_atm_temp']\n",
    "image_file['azmet_wind_velocity'] = environmental_df['azmet_wind_velocity']\n",
    "image_file['azmet_VPD'] = environmental_df['azmet_VPD']\n",
    "image_file['azmet_solar_radiation'] = environmental_df['azmet_solar_radiation']\n",
    "image_file['relative_humidity'] = environmental_df['relative_humidity']\n",
    "image_file['env_temp'] = environmental_df['env_temp']\n",
    "image_file['env_wind'] = environmental_df['env_wind']"
   ]
  },
  {
   "cell_type": "code",
   "execution_count": 15,
   "metadata": {},
   "outputs": [],
   "source": [
    "del image_file['Unnamed: 0']"
   ]
  },
  {
   "cell_type": "code",
   "execution_count": 16,
   "metadata": {},
   "outputs": [],
   "source": [
    "full_image_file = image_file"
   ]
  },
  {
   "cell_type": "code",
   "execution_count": 17,
   "metadata": {},
   "outputs": [],
   "source": [
    "full_image_file.to_csv('2020-03-03_all_atm_temp.csv')"
   ]
  },
  {
   "cell_type": "code",
   "execution_count": 19,
   "metadata": {},
   "outputs": [],
   "source": [
    "## Modifies the csv to be used in conjunction with the plant detection csv\n",
    "full_image_file_mod = full_image_file[['Date and Time', 'Image Name', 'azmet_atm_temp', 'azmet_wind_velocity', 'azmet_VPD', \n",
    "                                      'azmet_solar_radiation', 'relative_humidity', 'env_temp','env_wind']]"
   ]
  },
  {
   "cell_type": "code",
   "execution_count": 20,
   "metadata": {},
   "outputs": [],
   "source": [
    "full_image_file_mod = full_image_file_mod.set_index('Image Name')"
   ]
  },
  {
   "cell_type": "code",
   "execution_count": 21,
   "metadata": {},
   "outputs": [],
   "source": [
    "full_image_file_mod.to_csv('full_image_file_mod.csv')"
   ]
  },
  {
   "cell_type": "code",
   "execution_count": null,
   "metadata": {},
   "outputs": [],
   "source": []
  }
 ],
 "metadata": {
  "kernelspec": {
   "display_name": "Python 3",
   "language": "python",
   "name": "python3"
  },
  "language_info": {
   "codemirror_mode": {
    "name": "ipython",
    "version": 3
   },
   "file_extension": ".py",
   "mimetype": "text/x-python",
   "name": "python",
   "nbconvert_exporter": "python",
   "pygments_lexer": "ipython3",
   "version": "3.8.3"
  }
 },
 "nbformat": 4,
 "nbformat_minor": 4
}
