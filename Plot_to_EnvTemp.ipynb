{
 "cells": [
  {
   "cell_type": "code",
   "execution_count": 94,
   "metadata": {},
   "outputs": [],
   "source": [
    "import pandas as pd\n",
    "import subprocess\n",
    "import datetime as dt"
   ]
  },
  {
   "cell_type": "code",
   "execution_count": 95,
   "metadata": {},
   "outputs": [],
   "source": [
    "image_file = pd.read_csv('thermal_plot_image.csv')"
   ]
  },
  {
   "cell_type": "code",
   "execution_count": 96,
   "metadata": {},
   "outputs": [],
   "source": [
    "class Thermal:\n",
    "    def get_tar(season, date):\n",
    "        command = f'iget -rKTPf -N 0 /iplant/home/shared/terraref/ua-mac/level_1/{season}/EnvironmentLogger/{date}_clean.tar.gz'\n",
    "        subprocess.call(command, shell = True)\n",
    "        command = f'tar -xvf {date}_clean.tar.gz'\n",
    "        subprocess.call(command, shell = True)\n",
    "\n",
    "## Retrieve csv data and organize/clean up\n",
    "    def retrieve_data(season, date):\n",
    "        tar_data = Thermal.get_tar(season, date)\n",
    "        data = pd.read_csv(f'./{date}_clean.csv')\n",
    "        data['Time'] = pd.to_datetime(data['Time'])\n",
    "        #data['date'] = data.Time.dt.date\n",
    "        #data['time'] = data.Time.dt.time\n",
    "        data_clean = data[['Time', 'Sun Direction', 'Temperature', \n",
    "                                      'Photosynthetically active radiation']]\n",
    "        #index_data = data_clean.set_index('time')\n",
    "        return data_clean"
   ]
  },
  {
   "cell_type": "code",
   "execution_count": 97,
   "metadata": {},
   "outputs": [],
   "source": [
    "EL = Thermal.retrieve_data('season_10_yr_2020', '2020-03-03')"
   ]
  },
  {
   "cell_type": "code",
   "execution_count": 98,
   "metadata": {},
   "outputs": [
    {
     "data": {
      "text/html": [
       "<div>\n",
       "<style scoped>\n",
       "    .dataframe tbody tr th:only-of-type {\n",
       "        vertical-align: middle;\n",
       "    }\n",
       "\n",
       "    .dataframe tbody tr th {\n",
       "        vertical-align: top;\n",
       "    }\n",
       "\n",
       "    .dataframe thead th {\n",
       "        text-align: right;\n",
       "    }\n",
       "</style>\n",
       "<table border=\"1\" class=\"dataframe\">\n",
       "  <thead>\n",
       "    <tr style=\"text-align: right;\">\n",
       "      <th></th>\n",
       "      <th>Time</th>\n",
       "      <th>Sun Direction</th>\n",
       "      <th>Temperature</th>\n",
       "      <th>Photosynthetically active radiation</th>\n",
       "    </tr>\n",
       "  </thead>\n",
       "  <tbody>\n",
       "    <tr>\n",
       "      <th>0</th>\n",
       "      <td>2020-03-03 00:00:00</td>\n",
       "      <td>340.872219</td>\n",
       "      <td>9.833674</td>\n",
       "      <td>0.0</td>\n",
       "    </tr>\n",
       "    <tr>\n",
       "      <th>1</th>\n",
       "      <td>2020-03-03 00:01:00</td>\n",
       "      <td>341.344646</td>\n",
       "      <td>9.855037</td>\n",
       "      <td>0.0</td>\n",
       "    </tr>\n",
       "    <tr>\n",
       "      <th>2</th>\n",
       "      <td>2020-03-03 00:02:00</td>\n",
       "      <td>341.937925</td>\n",
       "      <td>9.821467</td>\n",
       "      <td>0.0</td>\n",
       "    </tr>\n",
       "    <tr>\n",
       "      <th>3</th>\n",
       "      <td>2020-03-03 00:03:00</td>\n",
       "      <td>342.454299</td>\n",
       "      <td>9.812311</td>\n",
       "      <td>0.0</td>\n",
       "    </tr>\n",
       "    <tr>\n",
       "      <th>4</th>\n",
       "      <td>2020-03-03 00:04:00</td>\n",
       "      <td>342.959685</td>\n",
       "      <td>9.781793</td>\n",
       "      <td>0.0</td>\n",
       "    </tr>\n",
       "    <tr>\n",
       "      <th>...</th>\n",
       "      <td>...</td>\n",
       "      <td>...</td>\n",
       "      <td>...</td>\n",
       "      <td>...</td>\n",
       "    </tr>\n",
       "    <tr>\n",
       "      <th>1435</th>\n",
       "      <td>2020-03-03 23:55:00</td>\n",
       "      <td>338.762780</td>\n",
       "      <td>12.070681</td>\n",
       "      <td>0.0</td>\n",
       "    </tr>\n",
       "    <tr>\n",
       "      <th>1436</th>\n",
       "      <td>2020-03-03 23:56:00</td>\n",
       "      <td>339.268166</td>\n",
       "      <td>12.070681</td>\n",
       "      <td>0.0</td>\n",
       "    </tr>\n",
       "    <tr>\n",
       "      <th>1437</th>\n",
       "      <td>2020-03-03 23:57:00</td>\n",
       "      <td>339.773553</td>\n",
       "      <td>12.073733</td>\n",
       "      <td>0.0</td>\n",
       "    </tr>\n",
       "    <tr>\n",
       "      <th>1438</th>\n",
       "      <td>2020-03-03 23:58:00</td>\n",
       "      <td>340.289926</td>\n",
       "      <td>12.058473</td>\n",
       "      <td>0.0</td>\n",
       "    </tr>\n",
       "    <tr>\n",
       "      <th>1439</th>\n",
       "      <td>2020-03-03 23:59:00</td>\n",
       "      <td>340.751366</td>\n",
       "      <td>11.991333</td>\n",
       "      <td>0.0</td>\n",
       "    </tr>\n",
       "  </tbody>\n",
       "</table>\n",
       "<p>1440 rows × 4 columns</p>\n",
       "</div>"
      ],
      "text/plain": [
       "                    Time  Sun Direction  Temperature  \\\n",
       "0    2020-03-03 00:00:00     340.872219     9.833674   \n",
       "1    2020-03-03 00:01:00     341.344646     9.855037   \n",
       "2    2020-03-03 00:02:00     341.937925     9.821467   \n",
       "3    2020-03-03 00:03:00     342.454299     9.812311   \n",
       "4    2020-03-03 00:04:00     342.959685     9.781793   \n",
       "...                  ...            ...          ...   \n",
       "1435 2020-03-03 23:55:00     338.762780    12.070681   \n",
       "1436 2020-03-03 23:56:00     339.268166    12.070681   \n",
       "1437 2020-03-03 23:57:00     339.773553    12.073733   \n",
       "1438 2020-03-03 23:58:00     340.289926    12.058473   \n",
       "1439 2020-03-03 23:59:00     340.751366    11.991333   \n",
       "\n",
       "      Photosynthetically active radiation  \n",
       "0                                     0.0  \n",
       "1                                     0.0  \n",
       "2                                     0.0  \n",
       "3                                     0.0  \n",
       "4                                     0.0  \n",
       "...                                   ...  \n",
       "1435                                  0.0  \n",
       "1436                                  0.0  \n",
       "1437                                  0.0  \n",
       "1438                                  0.0  \n",
       "1439                                  0.0  \n",
       "\n",
       "[1440 rows x 4 columns]"
      ]
     },
     "execution_count": 98,
     "metadata": {},
     "output_type": "execute_result"
    }
   ],
   "source": [
    "EL"
   ]
  },
  {
   "cell_type": "code",
   "execution_count": 105,
   "metadata": {},
   "outputs": [],
   "source": [
    "image_filei = image_file.set_index('Date and Time')"
   ]
  },
  {
   "cell_type": "code",
   "execution_count": 119,
   "metadata": {},
   "outputs": [],
   "source": [
    "time1 = image_file['Date and Time'][1]\n",
    "time1dt = pd.to_datetime(time1)"
   ]
  },
  {
   "cell_type": "code",
   "execution_count": 120,
   "metadata": {},
   "outputs": [],
   "source": [
    "result_index = EL['Time'].sub(time1dt).abs().idxmin()"
   ]
  },
  {
   "cell_type": "code",
   "execution_count": 121,
   "metadata": {},
   "outputs": [
    {
     "data": {
      "text/plain": [
       "526"
      ]
     },
     "execution_count": 121,
     "metadata": {},
     "output_type": "execute_result"
    }
   ],
   "source": [
    "result_index"
   ]
  },
  {
   "cell_type": "code",
   "execution_count": 122,
   "metadata": {},
   "outputs": [
    {
     "data": {
      "text/plain": [
       "Time                                   2020-03-03 08:46:00\n",
       "Sun Direction                                      114.833\n",
       "Temperature                                        12.4766\n",
       "Photosynthetically active radiation                740.813\n",
       "Name: 526, dtype: object"
      ]
     },
     "execution_count": 122,
     "metadata": {},
     "output_type": "execute_result"
    }
   ],
   "source": [
    "EL.iloc[526]"
   ]
  },
  {
   "cell_type": "code",
   "execution_count": null,
   "metadata": {},
   "outputs": [],
   "source": []
  }
 ],
 "metadata": {
  "kernelspec": {
   "display_name": "Python 3",
   "language": "python",
   "name": "python3"
  },
  "language_info": {
   "codemirror_mode": {
    "name": "ipython",
    "version": 3
   },
   "file_extension": ".py",
   "mimetype": "text/x-python",
   "name": "python",
   "nbconvert_exporter": "python",
   "pygments_lexer": "ipython3",
   "version": "3.8.3"
  }
 },
 "nbformat": 4,
 "nbformat_minor": 4
}
