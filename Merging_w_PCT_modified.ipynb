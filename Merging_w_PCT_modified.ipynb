{
 "cells": [
  {
   "cell_type": "code",
   "execution_count": 2,
   "metadata": {},
   "outputs": [],
   "source": [
    "import os\n",
    "import pandas as pd\n",
    "import numpy as np \n",
    "import seaborn as sns"
   ]
  },
  {
   "cell_type": "code",
   "execution_count": 3,
   "metadata": {},
   "outputs": [],
   "source": [
    "## Files are the plot to atm temperature file once it has been modified for this notebook and the csv that has image and plot\n",
    "env_logger = pd.read_csv('full_image_file_mod.csv').set_index('Image Name')\n",
    "img_plot = pd.read_csv('finale_df_mod.csv')"
   ]
  },
  {
   "cell_type": "code",
   "execution_count": 4,
   "metadata": {},
   "outputs": [],
   "source": [
    "del img_plot['Unnamed: 0']"
   ]
  },
  {
   "cell_type": "code",
   "execution_count": 5,
   "metadata": {},
   "outputs": [],
   "source": [
    "## Renames the columns so it works with Emmanuel's code\n",
    "img_plot.columns = ['image', 'plot']"
   ]
  },
  {
   "cell_type": "code",
   "execution_count": 8,
   "metadata": {},
   "outputs": [],
   "source": [
    "## Adds all of the AZmet and Env data to the file that just had image name and plot (essentially merges them together)\n",
    "img_plot['Date and Time'] = img_plot['azmet atm temp'] = img_plot['azmet wind velocity'] = img_plot['azmet VPD'] = img_plot['azmet solar radiation'] = img_plot['relative humidity'] = img_plot['Env Temperature'] = img_plot['Env Wind Velocity'] = None\n",
    "\n",
    "for i, row in img_plot.iterrows():\n",
    "    meta = row['image']\n",
    "    try:\n",
    "        #print(env_logger.loc[meta])\n",
    "        datetime = env_logger.loc[meta, 'Date and Time']\n",
    "        azmet_temp = env_logger.loc[meta, 'azmet atm temp']\n",
    "        azmet_wind_vel = env_logger.loc[meta, 'azmet wind velocity']\n",
    "        azmet_vpd = env_logger.loc[meta, 'azmet VPD']\n",
    "        sol_rad = env_logger.loc[meta, 'azmet solar radiation']\n",
    "        temp = env_logger.loc[meta, 'Env Temperature']\n",
    "        win_vel = env_logger.loc[meta, 'Env Wind Velocity']\n",
    "        rel_hum = env_logger.loc[meta, 'relative humidity']\n",
    "        #print(sun_dir)\n",
    "        \n",
    "        img_plot.at[i, 'Date and Time'] = datetime\n",
    "        img_plot.at[i, 'azmet atm temp'] = azmet_temp\n",
    "        img_plot.at[i, 'azmet wind velocity'] = azmet_wind_vel\n",
    "        img_plot.at[i, 'azmet VPD'] = azmet_vpd\n",
    "        img_plot.at[i, 'azmet solar radiation'] = sol_rad\n",
    "        img_plot.at[i, 'Env Temperature'] = temp\n",
    "        img_plot.at[i, 'Env Wind Velocity'] = win_vel\n",
    "        img_plot.at[i, 'relative humidity'] = rel_hum\n",
    "        \n",
    "    except:\n",
    "        pass\n",
    "    "
   ]
  },
  {
   "cell_type": "code",
   "execution_count": 9,
   "metadata": {},
   "outputs": [],
   "source": [
    "## Drops image and time columns so we can get stats on the values\n",
    "df_agg = img_plot.drop(['image', 'Date and Time'], axis=1)#.set_index('plot')#.groupby('plot')"
   ]
  },
  {
   "cell_type": "code",
   "execution_count": 11,
   "metadata": {},
   "outputs": [],
   "source": [
    "## Creates a dictionary that goes through the merged dataframe and calculates different statistical values for the data\n",
    "temp_dict = {}\n",
    "cnt = 0\n",
    "\n",
    "for plot in df_agg['plot'].unique().tolist():\n",
    "    try:\n",
    "        cnt += 1 \n",
    "\n",
    "        select_df = df_agg.set_index('plot').loc[plot]\n",
    "        temp_median = select_df['azmet atm temp'].median()\n",
    "        temp_mean = select_df['azmet atm temp'].mean()\n",
    "        temp_std = select_df['azmet atm temp'].std()\n",
    "        \n",
    "        azmet_wind_vel = select_df['azmet wind velocity'].median()\n",
    "        azmet_vpd = select_df['azmet VPD'].median()\n",
    "        sol_rad = select_df['azmet solar radiation'].median()\n",
    "        temp = select_df['Env Temperature'].median()\n",
    "        wind_vel = select_df['Env Wind Velocity'].median()\n",
    "        rel_hum = select_df['relative humidity'].median()\n",
    "        \n",
    "        \n",
    "        \n",
    "        \n",
    "        #print(temp_median)\n",
    "        temp_dict[cnt] = {'plot': plot,\n",
    "                          'median': temp_median,\n",
    "                          'mean': temp_mean, \n",
    "                          'std_dev': temp_std, \n",
    "                          'azmet wind velocity': azmet_wind_vel, \n",
    "                          'azmet VPD': azmet_vpd, \n",
    "                          'azmet solar radiation': sol_rad, \n",
    "                          'Env Temperature': temp, \n",
    "                          'wind velocity': wind_vel,\n",
    "                         'relative humidity': rel_hum}\n",
    "    except:\n",
    "        pass"
   ]
  },
  {
   "cell_type": "code",
   "execution_count": 12,
   "metadata": {},
   "outputs": [],
   "source": [
    "## Converts dictionary with stats into a dataframe and sets the plot as the index\n",
    "result = pd.DataFrame.from_dict(temp_dict, orient='index').set_index('plot')"
   ]
  },
  {
   "cell_type": "code",
   "execution_count": 15,
   "metadata": {},
   "outputs": [],
   "source": [
    "## Reads in the csv with the individual plant temperatures (produced by the pipeline)\n",
    "plant_detections = pd.read_csv('2020-03-03_individual_temps.csv')"
   ]
  },
  {
   "cell_type": "code",
   "execution_count": 16,
   "metadata": {},
   "outputs": [],
   "source": [
    "## Adds the field information and PCT values to the already existing csv that is indexed by plot\n",
    "plant_detections['norm_temp'] = plant_detections['atm_temp'] = plant_detections['relative_humidity'] = None\n",
    "\n",
    "for i, row in plant_detections.iterrows():\n",
    "\n",
    "    try:\n",
    "        plot = row['plot'].replace('_', ' ')\n",
    "        plant_temp = row['median']\n",
    "        \n",
    "        temp_df = result.loc[plot]\n",
    "        atm_temp = temp_df['median']\n",
    "        norm_temp =  atm_temp - plant_temp\n",
    "        #norm_temp = plant_temp - atm_temp\n",
    "        \n",
    "        azmet_wind_vel = temp_df['azmet wind velocity']\n",
    "        azmet_vpd = temp_df['azmet VPD']\n",
    "        sol_rad = temp_df['azmet solar radiation']\n",
    "        temp = temp_df['Env Temperature']\n",
    "        wind_vel = temp_df['wind velocity']\n",
    "        rel_hum = temp_df['relative humidity']\n",
    "        \n",
    "        plant_detections.at[i, 'norm_temp'] = norm_temp\n",
    "        plant_detections.at[i, 'atm_temp'] = atm_temp\n",
    "        \n",
    "        plant_detections.at[i, 'azmet wind velocity'] = azmet_wind_vel\n",
    "        plant_detections.at[i, 'azmet VPD'] = azmet_vpd\n",
    "        plant_detections.at[i, 'azmet solar radiation'] = sol_rad\n",
    "        plant_detections.at[i, 'Env Temperature'] = temp\n",
    "        plant_detections.at[i, 'wind velocity'] = wind_vel\n",
    "        plant_detections.at[i, 'relative humidity'] = rel_hum\n",
    "        #print(atm_temp)\n",
    "    except:\n",
    "        pass"
   ]
  },
  {
   "cell_type": "code",
   "execution_count": 18,
   "metadata": {},
   "outputs": [],
   "source": [
    "plant_detections.to_csv('plant_detections_new.csv')"
   ]
  },
  {
   "cell_type": "code",
   "execution_count": 20,
   "metadata": {},
   "outputs": [],
   "source": [
    "plant_detections.to_csv('/mnt/c/Users/emman/OneDrive - University of Arizona/work/data/season_10/flir_env_exp/thermal_kmeans_approach_figs/2020-03-03_individual_temps_env_logger.csv', index=False)"
   ]
  },
  {
   "cell_type": "code",
   "execution_count": 26,
   "metadata": {},
   "outputs": [],
   "source": [
    "plant_detections.to_csv('/mnt/c/Users/emman/Downloads/season10_2020-03-03_ctd.csv')"
   ]
  },
  {
   "cell_type": "code",
   "execution_count": null,
   "metadata": {},
   "outputs": [],
   "source": []
  }
 ],
 "metadata": {
  "kernelspec": {
   "display_name": "Python 3",
   "language": "python",
   "name": "python3"
  },
  "language_info": {
   "codemirror_mode": {
    "name": "ipython",
    "version": 3
   },
   "file_extension": ".py",
   "mimetype": "text/x-python",
   "name": "python",
   "nbconvert_exporter": "python",
   "pygments_lexer": "ipython3",
   "version": "3.8.3"
  }
 },
 "nbformat": 4,
 "nbformat_minor": 4
}
