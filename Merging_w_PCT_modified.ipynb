{
 "cells": [
  {
   "cell_type": "code",
   "execution_count": 1,
   "metadata": {},
   "outputs": [],
   "source": [
    "import os\n",
    "import pandas as pd\n",
    "import numpy as np \n",
    "import seaborn as sns"
   ]
  },
  {
   "cell_type": "code",
   "execution_count": 2,
   "metadata": {},
   "outputs": [],
   "source": [
    "## Files are the plot to atm temperature file once it has been modified for this notebook and the csv that has image and plot\n",
    "env_logger = pd.read_csv('full_image_file_mod.csv').set_index('Image Name')\n",
    "img_plot = pd.read_csv('finale_df_mod.csv')"
   ]
  },
  {
   "cell_type": "code",
   "execution_count": 3,
   "metadata": {},
   "outputs": [],
   "source": [
    "del img_plot['Unnamed: 0']"
   ]
  },
  {
   "cell_type": "code",
   "execution_count": 4,
   "metadata": {},
   "outputs": [],
   "source": [
    "## Renames the columns so it works with Emmanuel's code\n",
    "img_plot.columns = ['image', 'plot']"
   ]
  },
  {
   "cell_type": "code",
   "execution_count": 5,
   "metadata": {},
   "outputs": [],
   "source": [
    "## Adds all of the AZmet and Env data to the file that just had image name and plot (essentially merges them together)\n",
    "img_plot['Date and Time'] = img_plot['azmet_atm_temp'] = img_plot['azmet_wind_velocity'] = img_plot['azmet_VPD'] = img_plot['azmet_solar_radiation'] = img_plot['relative_humidity'] = img_plot['env_temp'] = img_plot['env_wind'] = None\n",
    "\n",
    "for i, row in img_plot.iterrows():\n",
    "    meta = row['image']\n",
    "    try:\n",
    "        #print(env_logger.loc[meta])\n",
    "        datetime = env_logger.loc[meta, 'Date and Time']\n",
    "        azmet_temp = env_logger.loc[meta, 'azmet_atm_temp']\n",
    "        azmet_wind_vel = env_logger.loc[meta, 'azmet_wind_velocity']\n",
    "        azmet_vpd = env_logger.loc[meta, 'azmet_VPD']\n",
    "        sol_rad = env_logger.loc[meta, 'azmet_solar_radiation']\n",
    "        temp = env_logger.loc[meta, 'env_temp']\n",
    "        win_vel = env_logger.loc[meta, 'env_wind']\n",
    "        rel_hum = env_logger.loc[meta, 'relative_humidity']\n",
    "        #print(sun_dir)\n",
    "        \n",
    "        img_plot.at[i, 'Date and Time'] = datetime\n",
    "        img_plot.at[i, 'azmet_atm_temp'] = azmet_temp\n",
    "        img_plot.at[i, 'azmet_wind_velocity'] = azmet_wind_vel\n",
    "        img_plot.at[i, 'azmet_VPD'] = azmet_vpd\n",
    "        img_plot.at[i, 'azmet_solar_radiation'] = sol_rad\n",
    "        img_plot.at[i, 'env_temp'] = temp\n",
    "        img_plot.at[i, 'env_wind'] = win_vel\n",
    "        img_plot.at[i, 'relative_humidity'] = rel_hum\n",
    "        \n",
    "    except:\n",
    "        pass\n",
    "    "
   ]
  },
  {
   "cell_type": "code",
   "execution_count": 6,
   "metadata": {},
   "outputs": [],
   "source": [
    "## Drops image and time columns so we can get stats on the values\n",
    "df_agg = img_plot.drop(['image', 'Date and Time'], axis=1)#.set_index('plot')#.groupby('plot')"
   ]
  },
  {
   "cell_type": "code",
   "execution_count": 7,
   "metadata": {},
   "outputs": [],
   "source": [
    "## Creates a dictionary that goes through the merged dataframe and calculates different statistical values for the data\n",
    "temp_dict = {}\n",
    "cnt = 0\n",
    "\n",
    "for plot in df_agg['plot'].unique().tolist():\n",
    "    try:\n",
    "        cnt += 1 \n",
    "\n",
    "        select_df = df_agg.set_index('plot').loc[plot]\n",
    "        temp_median = select_df['azmet_atm_temp'].median()\n",
    "        temp_mean = select_df['azmet_atm_temp'].mean()\n",
    "        temp_std = select_df['azmet_atm_temp'].std()\n",
    "        \n",
    "        azmet_wind_vel = select_df['azmet_wind_velocity'].median()\n",
    "        azmet_vpd = select_df['azmet_VPD'].median()\n",
    "        sol_rad = select_df['azmet_solar_radiation'].median()\n",
    "        temp = select_df['env_temp'].median()\n",
    "        wind_vel = select_df['env_wind'].median()\n",
    "        rel_hum = select_df['relative_humidity'].median()\n",
    "        \n",
    "        \n",
    "        \n",
    "        \n",
    "        #print(temp_median)\n",
    "        temp_dict[cnt] = {'plot': plot,\n",
    "                          'median': temp_median,\n",
    "                          'mean': temp_mean, \n",
    "                          'std_dev': temp_std, \n",
    "                          'azmet_wind_velocity': azmet_wind_vel, \n",
    "                          'azmet_VPD': azmet_vpd, \n",
    "                          'azmet_solar_radiation': sol_rad, \n",
    "                          'env_temp': temp, \n",
    "                          'env_wind': wind_vel,\n",
    "                         'relative_humidity': rel_hum}\n",
    "    except:\n",
    "        pass"
   ]
  },
  {
   "cell_type": "code",
   "execution_count": 8,
   "metadata": {},
   "outputs": [],
   "source": [
    "## Converts dictionary with stats into a dataframe and sets the plot as the index\n",
    "result = pd.DataFrame.from_dict(temp_dict, orient='index').set_index('plot')"
   ]
  },
  {
   "cell_type": "code",
   "execution_count": 9,
   "metadata": {},
   "outputs": [],
   "source": [
    "## Reads in the csv with the individual plant temperatures (produced by the pipeline)\n",
    "plant_detections = pd.read_csv('2020-03-03_individual_temps.csv')"
   ]
  },
  {
   "cell_type": "code",
   "execution_count": 10,
   "metadata": {},
   "outputs": [],
   "source": [
    "## Adds the field information and PCT values to the already existing csv that is indexed by plot\n",
    "plant_detections['norm_temp'] = plant_detections['atm_temp'] = None\n",
    "\n",
    "for i, row in plant_detections.iterrows():\n",
    "\n",
    "    try:\n",
    "        plot = row['plot'].replace('_', ' ')\n",
    "        plant_temp = row['median']\n",
    "        \n",
    "        temp_df = result.loc[plot]\n",
    "        atm_temp = temp_df['median']\n",
    "        norm_temp =  atm_temp - plant_temp\n",
    "        #norm_temp = plant_temp - atm_temp\n",
    "        \n",
    "        azmet_wind_vel = temp_df['azmet_wind_velocity']\n",
    "        azmet_vpd = temp_df['azmet_VPD']\n",
    "        sol_rad = temp_df['azmet_solar_radiation']\n",
    "        temp = temp_df['env_temp']\n",
    "        wind_vel = temp_df['env_wind']\n",
    "        rel_hum = temp_df['relative_humidity']\n",
    "        \n",
    "        plant_detections.at[i, 'norm_temp'] = norm_temp\n",
    "        plant_detections.at[i, 'atm_temp'] = atm_temp\n",
    "        \n",
    "        plant_detections.at[i, 'azmet_wind_velocity'] = azmet_wind_vel\n",
    "        plant_detections.at[i, 'azmet_VPD'] = azmet_vpd\n",
    "        plant_detections.at[i, 'azmet_solar_radiation'] = sol_rad\n",
    "        plant_detections.at[i, 'env_temp'] = temp\n",
    "        plant_detections.at[i, 'env_wind'] = wind_vel\n",
    "        plant_detections.at[i, 'relative_humidity'] = rel_hum\n",
    "        #print(atm_temp)\n",
    "    except:\n",
    "        pass"
   ]
  },
  {
   "cell_type": "code",
   "execution_count": 11,
   "metadata": {},
   "outputs": [],
   "source": [
    "plant_detections.to_csv('plant_detections_new.csv')"
   ]
  },
  {
   "cell_type": "code",
   "execution_count": null,
   "metadata": {},
   "outputs": [],
   "source": []
  }
 ],
 "metadata": {
  "kernelspec": {
   "display_name": "Python 3",
   "language": "python",
   "name": "python3"
  },
  "language_info": {
   "codemirror_mode": {
    "name": "ipython",
    "version": 3
   },
   "file_extension": ".py",
   "mimetype": "text/x-python",
   "name": "python",
   "nbconvert_exporter": "python",
   "pygments_lexer": "ipython3",
   "version": "3.8.3"
  }
 },
 "nbformat": 4,
 "nbformat_minor": 4
}
