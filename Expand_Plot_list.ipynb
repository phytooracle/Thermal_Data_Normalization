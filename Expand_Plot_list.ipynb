{
 "cells": [
  {
   "cell_type": "code",
   "execution_count": 25,
   "metadata": {},
   "outputs": [],
   "source": [
    "import pandas as pd"
   ]
  },
  {
   "cell_type": "code",
   "execution_count": 26,
   "metadata": {},
   "outputs": [],
   "source": [
    "file = pd.read_csv('2020-03-03_all_atm_temp.csv')"
   ]
  },
  {
   "cell_type": "code",
   "execution_count": 27,
   "metadata": {},
   "outputs": [],
   "source": [
    "#Cleans up the plot list that was in a list so it can be manipulated\n",
    "def clean_alt_list(list_):\n",
    "    list_ = list_.replace('[', '')\n",
    "    list_ = list_.replace(']', '')\n",
    "    return list_"
   ]
  },
  {
   "cell_type": "code",
   "execution_count": 28,
   "metadata": {},
   "outputs": [],
   "source": [
    "file['plot'] = (file['plot'].apply(clean_alt_list)).apply(eval)"
   ]
  },
  {
   "cell_type": "code",
   "execution_count": 30,
   "metadata": {},
   "outputs": [],
   "source": [
    "#Takes each image (with multiple plots per row) and breaks it up so you have all of the plots listed out with associated data\n",
    "def expand_plots(clean_file):\n",
    "    plot_expand = file['plot'].apply(pd.Series)\n",
    "    plot_expand['time'] = file['Date and Time']\n",
    "    plot_expand['Image Name'] = file['Image Name']\n",
    "    plot_expand['Env Temp'] = file['Env Temperature']\n",
    "    plot_expand['Env Wind Speed'] = file['Env Wind Velocity']\n",
    "    plot_expand['Azmet Temp'] = file['azmet temp']\n",
    "    plot_expand['Azmet Wind Speed'] = file['azmet wind speed']\n",
    "    plot_expand['Env Temp avg'] = file['Avg EL']\n",
    "    plot_expand['Azmet Temp avg'] = file['Avg AZmet']\n",
    "    stacked = plot_expand.set_index(['time', 'Image Name', 'Env Temp', 'Env Wind Speed', 'Azmet Temp', 'Azmet Wind Speed', 'Env Temp avg', \n",
    "                                     'Azmet Temp avg']).stack()\n",
    "    stack_df = pd.DataFrame(stacked).reset_index()\n",
    "    del stack_df['level_8']\n",
    "    final_df = stack_df.rename(columns = {0:'Plot'})\n",
    "    return final_df\n",
    "#Takes a plot as paramter and finds how long it took to image that plot\n",
    "def plot_scan_time(interest_plot):\n",
    "    final_df = expand_plots(file)\n",
    "    plot_duration = final_df.loc[final_df['Plot'] == interest_plot]\n",
    "    start = pd.to_datetime(plot_duration['time'].iloc[(0)])\n",
    "    end = pd.to_datetime(plot_duration['time'].iloc[(-1)])\n",
    "    return end - start\n",
    "#Takes a plot as parameter and finds how much the temperature changed during the time it took to image the plot\n",
    "def plot_temp_change(interest_plot):\n",
    "    final_df = expand_plots(file)\n",
    "    plot_duration = final_df.loc[final_df['Plot'] == interest_plot]\n",
    "    start = plot_duration['Env Temp'].iloc[(0)]\n",
    "    end = plot_duration['Env Temp'].iloc[(-1)]\n",
    "    return end - start\n",
    "def images_making_plot(interest_plot):\n",
    "    final_df = expand_plots(file)\n",
    "    plot_list = final_df.loc[final_df['Plot'] == interest_plot]\n",
    "    return plot_list"
   ]
  },
  {
   "cell_type": "code",
   "execution_count": 87,
   "metadata": {},
   "outputs": [],
   "source": [
    "#plot_scan_time('MAC Field Scanner Season 10 Range 25 Column 10')"
   ]
  },
  {
   "cell_type": "code",
   "execution_count": 88,
   "metadata": {},
   "outputs": [],
   "source": [
    "#plot_temp_change('MAC Field Scanner Season 10 Range 25 Column 10')"
   ]
  },
  {
   "cell_type": "code",
   "execution_count": 89,
   "metadata": {},
   "outputs": [],
   "source": [
    "#images_making_plot('MAC Field Scanner Season 10 Range 25 Column 10')"
   ]
  },
  {
   "cell_type": "code",
   "execution_count": 31,
   "metadata": {},
   "outputs": [],
   "source": [
    "finale_df = expand_plots(file)"
   ]
  },
  {
   "cell_type": "code",
   "execution_count": 33,
   "metadata": {},
   "outputs": [],
   "source": [
    "finale_df.to_csv('2020-03-03_env.csv')"
   ]
  },
  {
   "cell_type": "code",
   "execution_count": null,
   "metadata": {},
   "outputs": [],
   "source": []
  }
 ],
 "metadata": {
  "kernelspec": {
   "display_name": "Python 3",
   "language": "python",
   "name": "python3"
  },
  "language_info": {
   "codemirror_mode": {
    "name": "ipython",
    "version": 3
   },
   "file_extension": ".py",
   "mimetype": "text/x-python",
   "name": "python",
   "nbconvert_exporter": "python",
   "pygments_lexer": "ipython3",
   "version": "3.8.3"
  }
 },
 "nbformat": 4,
 "nbformat_minor": 4
}
