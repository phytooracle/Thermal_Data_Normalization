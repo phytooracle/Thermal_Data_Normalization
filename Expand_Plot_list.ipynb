{
 "cells": [
  {
   "cell_type": "code",
   "execution_count": 140,
   "metadata": {},
   "outputs": [],
   "source": [
    "import pandas as pd"
   ]
  },
  {
   "cell_type": "code",
   "execution_count": 141,
   "metadata": {},
   "outputs": [],
   "source": [
    "file = pd.read_csv('2020_03_03_Plot_Env.csv')"
   ]
  },
  {
   "cell_type": "code",
   "execution_count": 142,
   "metadata": {},
   "outputs": [],
   "source": [
    "def clean_alt_list(list_):\n",
    "    list_ = list_.replace('[', '')\n",
    "    list_ = list_.replace(']', '')\n",
    "    return list_"
   ]
  },
  {
   "cell_type": "code",
   "execution_count": 143,
   "metadata": {},
   "outputs": [],
   "source": [
    "file['plot'] = file['plot'].apply(clean_alt_list)"
   ]
  },
  {
   "cell_type": "code",
   "execution_count": 144,
   "metadata": {},
   "outputs": [],
   "source": [
    "file['plot'] = file['plot'].apply(eval)"
   ]
  },
  {
   "cell_type": "code",
   "execution_count": 145,
   "metadata": {},
   "outputs": [],
   "source": [
    "plot_expand = file['plot'].apply(pd.Series)"
   ]
  },
  {
   "cell_type": "code",
   "execution_count": 146,
   "metadata": {},
   "outputs": [],
   "source": [
    "plot_expand['time'] = file['Date and Time']\n",
    "plot_expand['Image Name'] = file['Image Name']\n",
    "plot_expand['Env Temp'] = file['Env Temperature °C']"
   ]
  },
  {
   "cell_type": "code",
   "execution_count": 147,
   "metadata": {},
   "outputs": [],
   "source": [
    "stacked = plot_expand.set_index(['time', 'Image Name', 'Env Temp']).stack()"
   ]
  },
  {
   "cell_type": "code",
   "execution_count": 160,
   "metadata": {},
   "outputs": [],
   "source": [
    "stack_df = pd.DataFrame(stacked).reset_index()\n",
    "stack_df.rename(columns = {0:'Plot'})\n",
    "del stack_df['level_3']"
   ]
  },
  {
   "cell_type": "code",
   "execution_count": 161,
   "metadata": {},
   "outputs": [
    {
     "data": {
      "text/html": [
       "<div>\n",
       "<style scoped>\n",
       "    .dataframe tbody tr th:only-of-type {\n",
       "        vertical-align: middle;\n",
       "    }\n",
       "\n",
       "    .dataframe tbody tr th {\n",
       "        vertical-align: top;\n",
       "    }\n",
       "\n",
       "    .dataframe thead th {\n",
       "        text-align: right;\n",
       "    }\n",
       "</style>\n",
       "<table border=\"1\" class=\"dataframe\">\n",
       "  <thead>\n",
       "    <tr style=\"text-align: right;\">\n",
       "      <th></th>\n",
       "      <th>time</th>\n",
       "      <th>Image Name</th>\n",
       "      <th>Env Temp</th>\n",
       "      <th>0</th>\n",
       "    </tr>\n",
       "  </thead>\n",
       "  <tbody>\n",
       "    <tr>\n",
       "      <th>0</th>\n",
       "      <td>2020-03-03 08:45:33</td>\n",
       "      <td>fbf75978-ea6b-4d7c-8d85-9b21835c30fb_metadata....</td>\n",
       "      <td>12.476577</td>\n",
       "      <td>MAC Field Scanner Season 10 Range 53 Column 44</td>\n",
       "    </tr>\n",
       "    <tr>\n",
       "      <th>1</th>\n",
       "      <td>2020-03-03 08:45:33</td>\n",
       "      <td>fbf75978-ea6b-4d7c-8d85-9b21835c30fb_metadata....</td>\n",
       "      <td>12.476577</td>\n",
       "      <td>MAC Field Scanner Season 10 Range 53 Column 45</td>\n",
       "    </tr>\n",
       "    <tr>\n",
       "      <th>2</th>\n",
       "      <td>2020-03-03 08:45:33</td>\n",
       "      <td>fbf75978-ea6b-4d7c-8d85-9b21835c30fb_metadata....</td>\n",
       "      <td>12.476577</td>\n",
       "      <td>MAC Field Scanner Season 10 Range 53 Column 46</td>\n",
       "    </tr>\n",
       "    <tr>\n",
       "      <th>3</th>\n",
       "      <td>2020-03-03 08:45:35</td>\n",
       "      <td>4cb25050-63bf-4669-831f-2c6c7a5c31fa_metadata....</td>\n",
       "      <td>12.476577</td>\n",
       "      <td>MAC Field Scanner Season 10 Range 53 Column 43</td>\n",
       "    </tr>\n",
       "    <tr>\n",
       "      <th>4</th>\n",
       "      <td>2020-03-03 08:45:35</td>\n",
       "      <td>4cb25050-63bf-4669-831f-2c6c7a5c31fa_metadata....</td>\n",
       "      <td>12.476577</td>\n",
       "      <td>MAC Field Scanner Season 10 Range 53 Column 44</td>\n",
       "    </tr>\n",
       "    <tr>\n",
       "      <th>...</th>\n",
       "      <td>...</td>\n",
       "      <td>...</td>\n",
       "      <td>...</td>\n",
       "      <td>...</td>\n",
       "    </tr>\n",
       "    <tr>\n",
       "      <th>38318</th>\n",
       "      <td>2020-03-03 13:27:51</td>\n",
       "      <td>9bbd568e-fc9d-4508-b2aa-ff73c4aca5b6_metadata....</td>\n",
       "      <td>20.679952</td>\n",
       "      <td>MAC Field Scanner Season 10 Range 2 Column 44</td>\n",
       "    </tr>\n",
       "    <tr>\n",
       "      <th>38319</th>\n",
       "      <td>2020-03-03 13:27:51</td>\n",
       "      <td>9bbd568e-fc9d-4508-b2aa-ff73c4aca5b6_metadata....</td>\n",
       "      <td>20.679952</td>\n",
       "      <td>MAC Field Scanner Season 10 Range 2 Column 45</td>\n",
       "    </tr>\n",
       "    <tr>\n",
       "      <th>38320</th>\n",
       "      <td>2020-03-03 13:27:53</td>\n",
       "      <td>ca01b242-8dce-4a38-8f28-91e1447927a9_metadata....</td>\n",
       "      <td>20.679952</td>\n",
       "      <td>MAC Field Scanner Season 10 Range 2 Column 44</td>\n",
       "    </tr>\n",
       "    <tr>\n",
       "      <th>38321</th>\n",
       "      <td>2020-03-03 13:27:53</td>\n",
       "      <td>ca01b242-8dce-4a38-8f28-91e1447927a9_metadata....</td>\n",
       "      <td>20.679952</td>\n",
       "      <td>MAC Field Scanner Season 10 Range 2 Column 45</td>\n",
       "    </tr>\n",
       "    <tr>\n",
       "      <th>38322</th>\n",
       "      <td>2020-03-03 13:27:53</td>\n",
       "      <td>ca01b242-8dce-4a38-8f28-91e1447927a9_metadata....</td>\n",
       "      <td>20.679952</td>\n",
       "      <td>MAC Field Scanner Season 10 Range 2 Column 46</td>\n",
       "    </tr>\n",
       "  </tbody>\n",
       "</table>\n",
       "<p>38323 rows × 4 columns</p>\n",
       "</div>"
      ],
      "text/plain": [
       "                      time                                         Image Name  \\\n",
       "0      2020-03-03 08:45:33  fbf75978-ea6b-4d7c-8d85-9b21835c30fb_metadata....   \n",
       "1      2020-03-03 08:45:33  fbf75978-ea6b-4d7c-8d85-9b21835c30fb_metadata....   \n",
       "2      2020-03-03 08:45:33  fbf75978-ea6b-4d7c-8d85-9b21835c30fb_metadata....   \n",
       "3      2020-03-03 08:45:35  4cb25050-63bf-4669-831f-2c6c7a5c31fa_metadata....   \n",
       "4      2020-03-03 08:45:35  4cb25050-63bf-4669-831f-2c6c7a5c31fa_metadata....   \n",
       "...                    ...                                                ...   \n",
       "38318  2020-03-03 13:27:51  9bbd568e-fc9d-4508-b2aa-ff73c4aca5b6_metadata....   \n",
       "38319  2020-03-03 13:27:51  9bbd568e-fc9d-4508-b2aa-ff73c4aca5b6_metadata....   \n",
       "38320  2020-03-03 13:27:53  ca01b242-8dce-4a38-8f28-91e1447927a9_metadata....   \n",
       "38321  2020-03-03 13:27:53  ca01b242-8dce-4a38-8f28-91e1447927a9_metadata....   \n",
       "38322  2020-03-03 13:27:53  ca01b242-8dce-4a38-8f28-91e1447927a9_metadata....   \n",
       "\n",
       "        Env Temp                                               0  \n",
       "0      12.476577  MAC Field Scanner Season 10 Range 53 Column 44  \n",
       "1      12.476577  MAC Field Scanner Season 10 Range 53 Column 45  \n",
       "2      12.476577  MAC Field Scanner Season 10 Range 53 Column 46  \n",
       "3      12.476577  MAC Field Scanner Season 10 Range 53 Column 43  \n",
       "4      12.476577  MAC Field Scanner Season 10 Range 53 Column 44  \n",
       "...          ...                                             ...  \n",
       "38318  20.679952   MAC Field Scanner Season 10 Range 2 Column 44  \n",
       "38319  20.679952   MAC Field Scanner Season 10 Range 2 Column 45  \n",
       "38320  20.679952   MAC Field Scanner Season 10 Range 2 Column 44  \n",
       "38321  20.679952   MAC Field Scanner Season 10 Range 2 Column 45  \n",
       "38322  20.679952   MAC Field Scanner Season 10 Range 2 Column 46  \n",
       "\n",
       "[38323 rows x 4 columns]"
      ]
     },
     "execution_count": 161,
     "metadata": {},
     "output_type": "execute_result"
    }
   ],
   "source": [
    "stack_df"
   ]
  },
  {
   "cell_type": "code",
   "execution_count": null,
   "metadata": {},
   "outputs": [],
   "source": []
  }
 ],
 "metadata": {
  "kernelspec": {
   "display_name": "Python 3",
   "language": "python",
   "name": "python3"
  },
  "language_info": {
   "codemirror_mode": {
    "name": "ipython",
    "version": 3
   },
   "file_extension": ".py",
   "mimetype": "text/x-python",
   "name": "python",
   "nbconvert_exporter": "python",
   "pygments_lexer": "ipython3",
   "version": "3.8.3"
  }
 },
 "nbformat": 4,
 "nbformat_minor": 4
}
